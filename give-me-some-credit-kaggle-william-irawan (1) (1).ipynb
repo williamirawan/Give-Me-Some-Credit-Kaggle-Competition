{
 "cells": [
  {
   "cell_type": "markdown",
   "id": "ce0d1b00",
   "metadata": {
    "papermill": {
     "duration": 0.016409,
     "end_time": "2022-12-06T21:44:00.382982",
     "exception": false,
     "start_time": "2022-12-06T21:44:00.366573",
     "status": "completed"
    },
    "tags": []
   },
   "source": [
    "# **GIVE ME SOME CREDIT**"
   ]
  },
  {
   "cell_type": "code",
   "execution_count": 1,
   "id": "0116b920",
   "metadata": {
    "_cell_guid": "b1076dfc-b9ad-4769-8c92-a6c4dae69d19",
    "_uuid": "8f2839f25d086af736a60e9eeb907d3b93b6e0e5",
    "execution": {
     "iopub.execute_input": "2022-12-06T21:44:00.416861Z",
     "iopub.status.busy": "2022-12-06T21:44:00.415923Z",
     "iopub.status.idle": "2022-12-06T21:44:00.441607Z",
     "shell.execute_reply": "2022-12-06T21:44:00.440511Z"
    },
    "papermill": {
     "duration": 0.048128,
     "end_time": "2022-12-06T21:44:00.445874",
     "exception": false,
     "start_time": "2022-12-06T21:44:00.397746",
     "status": "completed"
    },
    "tags": []
   },
   "outputs": [
    {
     "name": "stdout",
     "output_type": "stream",
     "text": [
      "/kaggle/input/GiveMeSomeCredit/Data Dictionary.xls\n",
      "/kaggle/input/GiveMeSomeCredit/cs-training.csv\n",
      "/kaggle/input/GiveMeSomeCredit/sampleEntry.csv\n",
      "/kaggle/input/GiveMeSomeCredit/cs-test.csv\n",
      "/kaggle/input/give-me-some-credit-william-irawan/__results__.html\n",
      "/kaggle/input/give-me-some-credit-william-irawan/submission_file.csv\n",
      "/kaggle/input/give-me-some-credit-william-irawan/__resultx__.html\n",
      "/kaggle/input/give-me-some-credit-william-irawan/__notebook__.ipynb\n",
      "/kaggle/input/give-me-some-credit-william-irawan/__output__.json\n",
      "/kaggle/input/give-me-some-credit-william-irawan/custom.css\n",
      "/kaggle/input/give-me-some-credit-william-irawan/__results___files/__results___35_0.png\n",
      "/kaggle/input/give-me-some-credit-william-irawan/__results___files/__results___36_0.png\n",
      "/kaggle/input/give-me-some-credit-william-irawan/__results___files/__results___38_2.png\n",
      "/kaggle/input/give-me-some-credit-william-irawan/__results___files/__results___27_1.png\n",
      "/kaggle/input/give-me-some-credit-william-irawan/__results___files/__results___30_1.png\n",
      "/kaggle/input/give-me-some-credit-william-irawan/__results___files/__results___39_2.png\n",
      "/kaggle/input/give-me-some-credit-william-irawan/__results___files/__results___34_0.png\n",
      "/kaggle/input/give-me-some-credit-william-irawan/__results___files/__results___25_2.png\n",
      "/kaggle/input/givemesomecredit/Data Dictionary.xls\n",
      "/kaggle/input/givemesomecredit/cs-training.csv\n",
      "/kaggle/input/givemesomecredit/sampleEntry.csv\n",
      "/kaggle/input/givemesomecredit/cs-test.csv\n"
     ]
    }
   ],
   "source": [
    "# This Python 3 environment comes with many helpful analytics libraries installed\n",
    "# It is defined by the kaggle/python Docker image: https://github.com/kaggle/docker-python\n",
    "# For example, here's several helpful packages to load\n",
    "\n",
    "import numpy as np # linear algebra\n",
    "import pandas as pd # data processing, CSV file I/O (e.g. pd.read_csv)\n",
    "\n",
    "# Input data files are available in the read-only \"../input/\" directory\n",
    "# For example, running this (by clicking run or pressing Shift+Enter) will list all files under the input directory\n",
    "\n",
    "import os\n",
    "for dirname, _, filenames in os.walk('/kaggle/input'):\n",
    "    for filename in filenames:\n",
    "        print(os.path.join(dirname, filename))\n",
    "\n",
    "# You can write up to 20GB to the current directory (/kaggle/working/) that gets preserved as output when you create a version using \"Save & Run All\" \n",
    "# You can also write temporary files to /kaggle/temp/, but they won't be saved outside of the current session"
   ]
  },
  {
   "cell_type": "markdown",
   "id": "5a417ad4",
   "metadata": {
    "papermill": {
     "duration": 0.014563,
     "end_time": "2022-12-06T21:44:00.478040",
     "exception": false,
     "start_time": "2022-12-06T21:44:00.463477",
     "status": "completed"
    },
    "tags": []
   },
   "source": [
    "**i. Menginstall tool yang digunakan untuk membaca file excel .xls**"
   ]
  },
  {
   "cell_type": "code",
   "execution_count": 2,
   "id": "7f0e0bef",
   "metadata": {
    "execution": {
     "iopub.execute_input": "2022-12-06T21:44:00.512333Z",
     "iopub.status.busy": "2022-12-06T21:44:00.511661Z",
     "iopub.status.idle": "2022-12-06T21:44:13.914756Z",
     "shell.execute_reply": "2022-12-06T21:44:13.913109Z"
    },
    "papermill": {
     "duration": 13.423447,
     "end_time": "2022-12-06T21:44:13.917531",
     "exception": false,
     "start_time": "2022-12-06T21:44:00.494084",
     "status": "completed"
    },
    "tags": []
   },
   "outputs": [
    {
     "name": "stdout",
     "output_type": "stream",
     "text": [
      "Collecting xlrd\r\n",
      "  Downloading xlrd-2.0.1-py2.py3-none-any.whl (96 kB)\r\n",
      "\u001b[2K     \u001b[90m━━━━━━━━━━━━━━━━━━━━━━━━━━━━━━━━━━━━━━━━\u001b[0m \u001b[32m96.5/96.5 kB\u001b[0m \u001b[31m3.3 MB/s\u001b[0m eta \u001b[36m0:00:00\u001b[0m\r\n",
      "\u001b[?25hInstalling collected packages: xlrd\r\n",
      "Successfully installed xlrd-2.0.1\r\n",
      "\u001b[33mWARNING: Running pip as the 'root' user can result in broken permissions and conflicting behaviour with the system package manager. It is recommended to use a virtual environment instead: https://pip.pypa.io/warnings/venv\u001b[0m\u001b[33m\r\n",
      "\u001b[0m"
     ]
    }
   ],
   "source": [
    "!pip install xlrd"
   ]
  },
  {
   "cell_type": "code",
   "execution_count": 3,
   "id": "de4ab08f",
   "metadata": {
    "execution": {
     "iopub.execute_input": "2022-12-06T21:44:13.950258Z",
     "iopub.status.busy": "2022-12-06T21:44:13.949364Z",
     "iopub.status.idle": "2022-12-06T21:44:15.123953Z",
     "shell.execute_reply": "2022-12-06T21:44:15.122836Z"
    },
    "papermill": {
     "duration": 1.194333,
     "end_time": "2022-12-06T21:44:15.127003",
     "exception": false,
     "start_time": "2022-12-06T21:44:13.932670",
     "status": "completed"
    },
    "tags": []
   },
   "outputs": [],
   "source": [
    "import matplotlib.pyplot as ml\n",
    "import seaborn as sbr\n",
    "from scipy import stats"
   ]
  },
  {
   "cell_type": "markdown",
   "id": "47ffd296",
   "metadata": {
    "papermill": {
     "duration": 0.014698,
     "end_time": "2022-12-06T21:44:15.157038",
     "exception": false,
     "start_time": "2022-12-06T21:44:15.142340",
     "status": "completed"
    },
    "tags": []
   },
   "source": [
    "**ii. Menginput Data Ke Variabel**"
   ]
  },
  {
   "cell_type": "code",
   "execution_count": 4,
   "id": "2d35844b",
   "metadata": {
    "execution": {
     "iopub.execute_input": "2022-12-06T21:44:15.189214Z",
     "iopub.status.busy": "2022-12-06T21:44:15.188810Z",
     "iopub.status.idle": "2022-12-06T21:44:15.710966Z",
     "shell.execute_reply": "2022-12-06T21:44:15.709563Z"
    },
    "papermill": {
     "duration": 0.541605,
     "end_time": "2022-12-06T21:44:15.713860",
     "exception": false,
     "start_time": "2022-12-06T21:44:15.172255",
     "status": "completed"
    },
    "tags": []
   },
   "outputs": [],
   "source": [
    "train_df = pd.read_csv('/kaggle/input/givemesomecredit/cs-training.csv')\n",
    "data_description = pd.read_excel('/kaggle/input/givemesomecredit/Data Dictionary.xls')\n",
    "test_df = pd.read_csv('/kaggle/input/givemesomecredit/cs-test.csv')\n",
    "submission = pd.read_csv('/kaggle/input/givemesomecredit/sampleEntry.csv')\n"
   ]
  },
  {
   "cell_type": "markdown",
   "id": "3cbec241",
   "metadata": {
    "papermill": {
     "duration": 0.014687,
     "end_time": "2022-12-06T21:44:15.743914",
     "exception": false,
     "start_time": "2022-12-06T21:44:15.729227",
     "status": "completed"
    },
    "tags": []
   },
   "source": [
    "# **A. Exploratory Data Analysis**"
   ]
  },
  {
   "cell_type": "markdown",
   "id": "f3bc5626",
   "metadata": {
    "papermill": {
     "duration": 0.014783,
     "end_time": "2022-12-06T21:44:15.773593",
     "exception": false,
     "start_time": "2022-12-06T21:44:15.758810",
     "status": "completed"
    },
    "tags": []
   },
   "source": [
    "**i. Mengecek Dataset**"
   ]
  },
  {
   "cell_type": "code",
   "execution_count": 5,
   "id": "f438fcbb",
   "metadata": {
    "execution": {
     "iopub.execute_input": "2022-12-06T21:44:15.805491Z",
     "iopub.status.busy": "2022-12-06T21:44:15.804995Z",
     "iopub.status.idle": "2022-12-06T21:44:15.831398Z",
     "shell.execute_reply": "2022-12-06T21:44:15.830145Z"
    },
    "papermill": {
     "duration": 0.045472,
     "end_time": "2022-12-06T21:44:15.833987",
     "exception": false,
     "start_time": "2022-12-06T21:44:15.788515",
     "status": "completed"
    },
    "tags": []
   },
   "outputs": [
    {
     "data": {
      "text/html": [
       "<div>\n",
       "<style scoped>\n",
       "    .dataframe tbody tr th:only-of-type {\n",
       "        vertical-align: middle;\n",
       "    }\n",
       "\n",
       "    .dataframe tbody tr th {\n",
       "        vertical-align: top;\n",
       "    }\n",
       "\n",
       "    .dataframe thead th {\n",
       "        text-align: right;\n",
       "    }\n",
       "</style>\n",
       "<table border=\"1\" class=\"dataframe\">\n",
       "  <thead>\n",
       "    <tr style=\"text-align: right;\">\n",
       "      <th></th>\n",
       "      <th>Unnamed: 0</th>\n",
       "      <th>SeriousDlqin2yrs</th>\n",
       "      <th>RevolvingUtilizationOfUnsecuredLines</th>\n",
       "      <th>age</th>\n",
       "      <th>NumberOfTime30-59DaysPastDueNotWorse</th>\n",
       "      <th>DebtRatio</th>\n",
       "      <th>MonthlyIncome</th>\n",
       "      <th>NumberOfOpenCreditLinesAndLoans</th>\n",
       "      <th>NumberOfTimes90DaysLate</th>\n",
       "      <th>NumberRealEstateLoansOrLines</th>\n",
       "      <th>NumberOfTime60-89DaysPastDueNotWorse</th>\n",
       "      <th>NumberOfDependents</th>\n",
       "    </tr>\n",
       "  </thead>\n",
       "  <tbody>\n",
       "    <tr>\n",
       "      <th>0</th>\n",
       "      <td>1</td>\n",
       "      <td>NaN</td>\n",
       "      <td>0.885519</td>\n",
       "      <td>43</td>\n",
       "      <td>0</td>\n",
       "      <td>0.177513</td>\n",
       "      <td>5700.0</td>\n",
       "      <td>4</td>\n",
       "      <td>0</td>\n",
       "      <td>0</td>\n",
       "      <td>0</td>\n",
       "      <td>0.0</td>\n",
       "    </tr>\n",
       "    <tr>\n",
       "      <th>1</th>\n",
       "      <td>2</td>\n",
       "      <td>NaN</td>\n",
       "      <td>0.463295</td>\n",
       "      <td>57</td>\n",
       "      <td>0</td>\n",
       "      <td>0.527237</td>\n",
       "      <td>9141.0</td>\n",
       "      <td>15</td>\n",
       "      <td>0</td>\n",
       "      <td>4</td>\n",
       "      <td>0</td>\n",
       "      <td>2.0</td>\n",
       "    </tr>\n",
       "    <tr>\n",
       "      <th>2</th>\n",
       "      <td>3</td>\n",
       "      <td>NaN</td>\n",
       "      <td>0.043275</td>\n",
       "      <td>59</td>\n",
       "      <td>0</td>\n",
       "      <td>0.687648</td>\n",
       "      <td>5083.0</td>\n",
       "      <td>12</td>\n",
       "      <td>0</td>\n",
       "      <td>1</td>\n",
       "      <td>0</td>\n",
       "      <td>2.0</td>\n",
       "    </tr>\n",
       "    <tr>\n",
       "      <th>3</th>\n",
       "      <td>4</td>\n",
       "      <td>NaN</td>\n",
       "      <td>0.280308</td>\n",
       "      <td>38</td>\n",
       "      <td>1</td>\n",
       "      <td>0.925961</td>\n",
       "      <td>3200.0</td>\n",
       "      <td>7</td>\n",
       "      <td>0</td>\n",
       "      <td>2</td>\n",
       "      <td>0</td>\n",
       "      <td>0.0</td>\n",
       "    </tr>\n",
       "    <tr>\n",
       "      <th>4</th>\n",
       "      <td>5</td>\n",
       "      <td>NaN</td>\n",
       "      <td>1.000000</td>\n",
       "      <td>27</td>\n",
       "      <td>0</td>\n",
       "      <td>0.019917</td>\n",
       "      <td>3865.0</td>\n",
       "      <td>4</td>\n",
       "      <td>0</td>\n",
       "      <td>0</td>\n",
       "      <td>0</td>\n",
       "      <td>1.0</td>\n",
       "    </tr>\n",
       "  </tbody>\n",
       "</table>\n",
       "</div>"
      ],
      "text/plain": [
       "   Unnamed: 0  SeriousDlqin2yrs  RevolvingUtilizationOfUnsecuredLines  age  \\\n",
       "0           1               NaN                              0.885519   43   \n",
       "1           2               NaN                              0.463295   57   \n",
       "2           3               NaN                              0.043275   59   \n",
       "3           4               NaN                              0.280308   38   \n",
       "4           5               NaN                              1.000000   27   \n",
       "\n",
       "   NumberOfTime30-59DaysPastDueNotWorse  DebtRatio  MonthlyIncome  \\\n",
       "0                                     0   0.177513         5700.0   \n",
       "1                                     0   0.527237         9141.0   \n",
       "2                                     0   0.687648         5083.0   \n",
       "3                                     1   0.925961         3200.0   \n",
       "4                                     0   0.019917         3865.0   \n",
       "\n",
       "   NumberOfOpenCreditLinesAndLoans  NumberOfTimes90DaysLate  \\\n",
       "0                                4                        0   \n",
       "1                               15                        0   \n",
       "2                               12                        0   \n",
       "3                                7                        0   \n",
       "4                                4                        0   \n",
       "\n",
       "   NumberRealEstateLoansOrLines  NumberOfTime60-89DaysPastDueNotWorse  \\\n",
       "0                             0                                     0   \n",
       "1                             4                                     0   \n",
       "2                             1                                     0   \n",
       "3                             2                                     0   \n",
       "4                             0                                     0   \n",
       "\n",
       "   NumberOfDependents  \n",
       "0                 0.0  \n",
       "1                 2.0  \n",
       "2                 2.0  \n",
       "3                 0.0  \n",
       "4                 1.0  "
      ]
     },
     "execution_count": 5,
     "metadata": {},
     "output_type": "execute_result"
    }
   ],
   "source": [
    "test_df.head()"
   ]
  },
  {
   "cell_type": "code",
   "execution_count": 6,
   "id": "ec98e83f",
   "metadata": {
    "execution": {
     "iopub.execute_input": "2022-12-06T21:44:15.867004Z",
     "iopub.status.busy": "2022-12-06T21:44:15.866587Z",
     "iopub.status.idle": "2022-12-06T21:44:15.882969Z",
     "shell.execute_reply": "2022-12-06T21:44:15.881767Z"
    },
    "papermill": {
     "duration": 0.03596,
     "end_time": "2022-12-06T21:44:15.885510",
     "exception": false,
     "start_time": "2022-12-06T21:44:15.849550",
     "status": "completed"
    },
    "tags": []
   },
   "outputs": [
    {
     "data": {
      "text/html": [
       "<div>\n",
       "<style scoped>\n",
       "    .dataframe tbody tr th:only-of-type {\n",
       "        vertical-align: middle;\n",
       "    }\n",
       "\n",
       "    .dataframe tbody tr th {\n",
       "        vertical-align: top;\n",
       "    }\n",
       "\n",
       "    .dataframe thead th {\n",
       "        text-align: right;\n",
       "    }\n",
       "</style>\n",
       "<table border=\"1\" class=\"dataframe\">\n",
       "  <thead>\n",
       "    <tr style=\"text-align: right;\">\n",
       "      <th></th>\n",
       "      <th>Unnamed: 0</th>\n",
       "      <th>SeriousDlqin2yrs</th>\n",
       "      <th>RevolvingUtilizationOfUnsecuredLines</th>\n",
       "      <th>age</th>\n",
       "      <th>NumberOfTime30-59DaysPastDueNotWorse</th>\n",
       "      <th>DebtRatio</th>\n",
       "      <th>MonthlyIncome</th>\n",
       "      <th>NumberOfOpenCreditLinesAndLoans</th>\n",
       "      <th>NumberOfTimes90DaysLate</th>\n",
       "      <th>NumberRealEstateLoansOrLines</th>\n",
       "      <th>NumberOfTime60-89DaysPastDueNotWorse</th>\n",
       "      <th>NumberOfDependents</th>\n",
       "    </tr>\n",
       "  </thead>\n",
       "  <tbody>\n",
       "    <tr>\n",
       "      <th>0</th>\n",
       "      <td>1</td>\n",
       "      <td>1</td>\n",
       "      <td>0.766127</td>\n",
       "      <td>45</td>\n",
       "      <td>2</td>\n",
       "      <td>0.802982</td>\n",
       "      <td>9120.0</td>\n",
       "      <td>13</td>\n",
       "      <td>0</td>\n",
       "      <td>6</td>\n",
       "      <td>0</td>\n",
       "      <td>2.0</td>\n",
       "    </tr>\n",
       "    <tr>\n",
       "      <th>1</th>\n",
       "      <td>2</td>\n",
       "      <td>0</td>\n",
       "      <td>0.957151</td>\n",
       "      <td>40</td>\n",
       "      <td>0</td>\n",
       "      <td>0.121876</td>\n",
       "      <td>2600.0</td>\n",
       "      <td>4</td>\n",
       "      <td>0</td>\n",
       "      <td>0</td>\n",
       "      <td>0</td>\n",
       "      <td>1.0</td>\n",
       "    </tr>\n",
       "    <tr>\n",
       "      <th>2</th>\n",
       "      <td>3</td>\n",
       "      <td>0</td>\n",
       "      <td>0.658180</td>\n",
       "      <td>38</td>\n",
       "      <td>1</td>\n",
       "      <td>0.085113</td>\n",
       "      <td>3042.0</td>\n",
       "      <td>2</td>\n",
       "      <td>1</td>\n",
       "      <td>0</td>\n",
       "      <td>0</td>\n",
       "      <td>0.0</td>\n",
       "    </tr>\n",
       "    <tr>\n",
       "      <th>3</th>\n",
       "      <td>4</td>\n",
       "      <td>0</td>\n",
       "      <td>0.233810</td>\n",
       "      <td>30</td>\n",
       "      <td>0</td>\n",
       "      <td>0.036050</td>\n",
       "      <td>3300.0</td>\n",
       "      <td>5</td>\n",
       "      <td>0</td>\n",
       "      <td>0</td>\n",
       "      <td>0</td>\n",
       "      <td>0.0</td>\n",
       "    </tr>\n",
       "    <tr>\n",
       "      <th>4</th>\n",
       "      <td>5</td>\n",
       "      <td>0</td>\n",
       "      <td>0.907239</td>\n",
       "      <td>49</td>\n",
       "      <td>1</td>\n",
       "      <td>0.024926</td>\n",
       "      <td>63588.0</td>\n",
       "      <td>7</td>\n",
       "      <td>0</td>\n",
       "      <td>1</td>\n",
       "      <td>0</td>\n",
       "      <td>0.0</td>\n",
       "    </tr>\n",
       "  </tbody>\n",
       "</table>\n",
       "</div>"
      ],
      "text/plain": [
       "   Unnamed: 0  SeriousDlqin2yrs  RevolvingUtilizationOfUnsecuredLines  age  \\\n",
       "0           1                 1                              0.766127   45   \n",
       "1           2                 0                              0.957151   40   \n",
       "2           3                 0                              0.658180   38   \n",
       "3           4                 0                              0.233810   30   \n",
       "4           5                 0                              0.907239   49   \n",
       "\n",
       "   NumberOfTime30-59DaysPastDueNotWorse  DebtRatio  MonthlyIncome  \\\n",
       "0                                     2   0.802982         9120.0   \n",
       "1                                     0   0.121876         2600.0   \n",
       "2                                     1   0.085113         3042.0   \n",
       "3                                     0   0.036050         3300.0   \n",
       "4                                     1   0.024926        63588.0   \n",
       "\n",
       "   NumberOfOpenCreditLinesAndLoans  NumberOfTimes90DaysLate  \\\n",
       "0                               13                        0   \n",
       "1                                4                        0   \n",
       "2                                2                        1   \n",
       "3                                5                        0   \n",
       "4                                7                        0   \n",
       "\n",
       "   NumberRealEstateLoansOrLines  NumberOfTime60-89DaysPastDueNotWorse  \\\n",
       "0                             6                                     0   \n",
       "1                             0                                     0   \n",
       "2                             0                                     0   \n",
       "3                             0                                     0   \n",
       "4                             1                                     0   \n",
       "\n",
       "   NumberOfDependents  \n",
       "0                 2.0  \n",
       "1                 1.0  \n",
       "2                 0.0  \n",
       "3                 0.0  \n",
       "4                 0.0  "
      ]
     },
     "execution_count": 6,
     "metadata": {},
     "output_type": "execute_result"
    }
   ],
   "source": [
    "train_df.head()"
   ]
  },
  {
   "cell_type": "markdown",
   "id": "57aa512c",
   "metadata": {
    "papermill": {
     "duration": 0.015844,
     "end_time": "2022-12-06T21:44:15.917514",
     "exception": false,
     "start_time": "2022-12-06T21:44:15.901670",
     "status": "completed"
    },
    "tags": []
   },
   "source": [
    "**ii. Mencetak Atribut yang Terdapat Pada Dataset**"
   ]
  },
  {
   "cell_type": "code",
   "execution_count": 7,
   "id": "36a57536",
   "metadata": {
    "execution": {
     "iopub.execute_input": "2022-12-06T21:44:15.951464Z",
     "iopub.status.busy": "2022-12-06T21:44:15.951054Z",
     "iopub.status.idle": "2022-12-06T21:44:15.956756Z",
     "shell.execute_reply": "2022-12-06T21:44:15.955379Z"
    },
    "papermill": {
     "duration": 0.026018,
     "end_time": "2022-12-06T21:44:15.959751",
     "exception": false,
     "start_time": "2022-12-06T21:44:15.933733",
     "status": "completed"
    },
    "tags": []
   },
   "outputs": [
    {
     "name": "stdout",
     "output_type": "stream",
     "text": [
      "(101503, 12)\n",
      "(150000, 12)\n"
     ]
    }
   ],
   "source": [
    "print(test_df.shape)\n",
    "print(train_df.shape)"
   ]
  },
  {
   "cell_type": "code",
   "execution_count": 8,
   "id": "7f126039",
   "metadata": {
    "execution": {
     "iopub.execute_input": "2022-12-06T21:44:15.993608Z",
     "iopub.status.busy": "2022-12-06T21:44:15.993222Z",
     "iopub.status.idle": "2022-12-06T21:44:15.998930Z",
     "shell.execute_reply": "2022-12-06T21:44:15.997737Z"
    },
    "papermill": {
     "duration": 0.026411,
     "end_time": "2022-12-06T21:44:16.001862",
     "exception": false,
     "start_time": "2022-12-06T21:44:15.975451",
     "status": "completed"
    },
    "tags": []
   },
   "outputs": [
    {
     "name": "stdout",
     "output_type": "stream",
     "text": [
      "Index(['Unnamed: 0', 'SeriousDlqin2yrs',\n",
      "       'RevolvingUtilizationOfUnsecuredLines', 'age',\n",
      "       'NumberOfTime30-59DaysPastDueNotWorse', 'DebtRatio', 'MonthlyIncome',\n",
      "       'NumberOfOpenCreditLinesAndLoans', 'NumberOfTimes90DaysLate',\n",
      "       'NumberRealEstateLoansOrLines', 'NumberOfTime60-89DaysPastDueNotWorse',\n",
      "       'NumberOfDependents'],\n",
      "      dtype='object')\n"
     ]
    }
   ],
   "source": [
    "print(test_df.columns)"
   ]
  },
  {
   "cell_type": "code",
   "execution_count": 9,
   "id": "c34973ce",
   "metadata": {
    "execution": {
     "iopub.execute_input": "2022-12-06T21:44:16.035207Z",
     "iopub.status.busy": "2022-12-06T21:44:16.034798Z",
     "iopub.status.idle": "2022-12-06T21:44:16.041732Z",
     "shell.execute_reply": "2022-12-06T21:44:16.040103Z"
    },
    "papermill": {
     "duration": 0.026241,
     "end_time": "2022-12-06T21:44:16.044024",
     "exception": false,
     "start_time": "2022-12-06T21:44:16.017783",
     "status": "completed"
    },
    "tags": []
   },
   "outputs": [
    {
     "name": "stdout",
     "output_type": "stream",
     "text": [
      "Index(['Unnamed: 0', 'SeriousDlqin2yrs',\n",
      "       'RevolvingUtilizationOfUnsecuredLines', 'age',\n",
      "       'NumberOfTime30-59DaysPastDueNotWorse', 'DebtRatio', 'MonthlyIncome',\n",
      "       'NumberOfOpenCreditLinesAndLoans', 'NumberOfTimes90DaysLate',\n",
      "       'NumberRealEstateLoansOrLines', 'NumberOfTime60-89DaysPastDueNotWorse',\n",
      "       'NumberOfDependents'],\n",
      "      dtype='object')\n"
     ]
    }
   ],
   "source": [
    "print(train_df.columns)"
   ]
  },
  {
   "cell_type": "markdown",
   "id": "52964519",
   "metadata": {
    "papermill": {
     "duration": 0.015453,
     "end_time": "2022-12-06T21:44:16.075317",
     "exception": false,
     "start_time": "2022-12-06T21:44:16.059864",
     "status": "completed"
    },
    "tags": []
   },
   "source": [
    "**iii. Mengetahui Nilai dari Isi Dataset**"
   ]
  },
  {
   "cell_type": "code",
   "execution_count": 10,
   "id": "f40f8eb4",
   "metadata": {
    "execution": {
     "iopub.execute_input": "2022-12-06T21:44:16.108622Z",
     "iopub.status.busy": "2022-12-06T21:44:16.108123Z",
     "iopub.status.idle": "2022-12-06T21:44:16.154664Z",
     "shell.execute_reply": "2022-12-06T21:44:16.153261Z"
    },
    "papermill": {
     "duration": 0.066344,
     "end_time": "2022-12-06T21:44:16.157422",
     "exception": false,
     "start_time": "2022-12-06T21:44:16.091078",
     "status": "completed"
    },
    "tags": []
   },
   "outputs": [
    {
     "data": {
      "text/plain": [
       "Unnamed: 0                              150000\n",
       "SeriousDlqin2yrs                             2\n",
       "RevolvingUtilizationOfUnsecuredLines    125728\n",
       "age                                         86\n",
       "NumberOfTime30-59DaysPastDueNotWorse        16\n",
       "DebtRatio                               114194\n",
       "MonthlyIncome                            13594\n",
       "NumberOfOpenCreditLinesAndLoans             58\n",
       "NumberOfTimes90DaysLate                     19\n",
       "NumberRealEstateLoansOrLines                28\n",
       "NumberOfTime60-89DaysPastDueNotWorse        13\n",
       "NumberOfDependents                          13\n",
       "dtype: int64"
      ]
     },
     "execution_count": 10,
     "metadata": {},
     "output_type": "execute_result"
    }
   ],
   "source": [
    "train_df.nunique()"
   ]
  },
  {
   "cell_type": "code",
   "execution_count": 11,
   "id": "79512773",
   "metadata": {
    "execution": {
     "iopub.execute_input": "2022-12-06T21:44:16.192787Z",
     "iopub.status.busy": "2022-12-06T21:44:16.191855Z",
     "iopub.status.idle": "2022-12-06T21:44:16.222318Z",
     "shell.execute_reply": "2022-12-06T21:44:16.221073Z"
    },
    "papermill": {
     "duration": 0.050719,
     "end_time": "2022-12-06T21:44:16.224751",
     "exception": false,
     "start_time": "2022-12-06T21:44:16.174032",
     "status": "completed"
    },
    "tags": []
   },
   "outputs": [
    {
     "data": {
      "text/plain": [
       "Unnamed: 0                              101503\n",
       "SeriousDlqin2yrs                             0\n",
       "RevolvingUtilizationOfUnsecuredLines     85716\n",
       "age                                         82\n",
       "NumberOfTime30-59DaysPastDueNotWorse        16\n",
       "DebtRatio                                79878\n",
       "MonthlyIncome                            11976\n",
       "NumberOfOpenCreditLinesAndLoans             56\n",
       "NumberOfTimes90DaysLate                     18\n",
       "NumberRealEstateLoansOrLines                24\n",
       "NumberOfTime60-89DaysPastDueNotWorse        12\n",
       "NumberOfDependents                          13\n",
       "dtype: int64"
      ]
     },
     "execution_count": 11,
     "metadata": {},
     "output_type": "execute_result"
    }
   ],
   "source": [
    "test_df.nunique()"
   ]
  },
  {
   "cell_type": "markdown",
   "id": "d06cf432",
   "metadata": {
    "papermill": {
     "duration": 0.015824,
     "end_time": "2022-12-06T21:44:16.256664",
     "exception": false,
     "start_time": "2022-12-06T21:44:16.240840",
     "status": "completed"
    },
    "tags": []
   },
   "source": [
    "**iv. Mengetahui Informasi dari Isi Dataset**"
   ]
  },
  {
   "cell_type": "code",
   "execution_count": 12,
   "id": "8c120e29",
   "metadata": {
    "execution": {
     "iopub.execute_input": "2022-12-06T21:44:16.291016Z",
     "iopub.status.busy": "2022-12-06T21:44:16.290628Z",
     "iopub.status.idle": "2022-12-06T21:44:16.320884Z",
     "shell.execute_reply": "2022-12-06T21:44:16.319523Z"
    },
    "papermill": {
     "duration": 0.050993,
     "end_time": "2022-12-06T21:44:16.324110",
     "exception": false,
     "start_time": "2022-12-06T21:44:16.273117",
     "status": "completed"
    },
    "tags": []
   },
   "outputs": [
    {
     "name": "stdout",
     "output_type": "stream",
     "text": [
      "<class 'pandas.core.frame.DataFrame'>\n",
      "RangeIndex: 150000 entries, 0 to 149999\n",
      "Data columns (total 12 columns):\n",
      " #   Column                                Non-Null Count   Dtype  \n",
      "---  ------                                --------------   -----  \n",
      " 0   Unnamed: 0                            150000 non-null  int64  \n",
      " 1   SeriousDlqin2yrs                      150000 non-null  int64  \n",
      " 2   RevolvingUtilizationOfUnsecuredLines  150000 non-null  float64\n",
      " 3   age                                   150000 non-null  int64  \n",
      " 4   NumberOfTime30-59DaysPastDueNotWorse  150000 non-null  int64  \n",
      " 5   DebtRatio                             150000 non-null  float64\n",
      " 6   MonthlyIncome                         120269 non-null  float64\n",
      " 7   NumberOfOpenCreditLinesAndLoans       150000 non-null  int64  \n",
      " 8   NumberOfTimes90DaysLate               150000 non-null  int64  \n",
      " 9   NumberRealEstateLoansOrLines          150000 non-null  int64  \n",
      " 10  NumberOfTime60-89DaysPastDueNotWorse  150000 non-null  int64  \n",
      " 11  NumberOfDependents                    146076 non-null  float64\n",
      "dtypes: float64(4), int64(8)\n",
      "memory usage: 13.7 MB\n"
     ]
    }
   ],
   "source": [
    "train_df.info()"
   ]
  },
  {
   "cell_type": "code",
   "execution_count": 13,
   "id": "91728bf6",
   "metadata": {
    "execution": {
     "iopub.execute_input": "2022-12-06T21:44:16.368883Z",
     "iopub.status.busy": "2022-12-06T21:44:16.368344Z",
     "iopub.status.idle": "2022-12-06T21:44:16.385755Z",
     "shell.execute_reply": "2022-12-06T21:44:16.384727Z"
    },
    "papermill": {
     "duration": 0.044843,
     "end_time": "2022-12-06T21:44:16.388645",
     "exception": false,
     "start_time": "2022-12-06T21:44:16.343802",
     "status": "completed"
    },
    "tags": []
   },
   "outputs": [
    {
     "name": "stdout",
     "output_type": "stream",
     "text": [
      "<class 'pandas.core.frame.DataFrame'>\n",
      "RangeIndex: 101503 entries, 0 to 101502\n",
      "Data columns (total 12 columns):\n",
      " #   Column                                Non-Null Count   Dtype  \n",
      "---  ------                                --------------   -----  \n",
      " 0   Unnamed: 0                            101503 non-null  int64  \n",
      " 1   SeriousDlqin2yrs                      0 non-null       float64\n",
      " 2   RevolvingUtilizationOfUnsecuredLines  101503 non-null  float64\n",
      " 3   age                                   101503 non-null  int64  \n",
      " 4   NumberOfTime30-59DaysPastDueNotWorse  101503 non-null  int64  \n",
      " 5   DebtRatio                             101503 non-null  float64\n",
      " 6   MonthlyIncome                         81400 non-null   float64\n",
      " 7   NumberOfOpenCreditLinesAndLoans       101503 non-null  int64  \n",
      " 8   NumberOfTimes90DaysLate               101503 non-null  int64  \n",
      " 9   NumberRealEstateLoansOrLines          101503 non-null  int64  \n",
      " 10  NumberOfTime60-89DaysPastDueNotWorse  101503 non-null  int64  \n",
      " 11  NumberOfDependents                    98877 non-null   float64\n",
      "dtypes: float64(5), int64(7)\n",
      "memory usage: 9.3 MB\n"
     ]
    }
   ],
   "source": [
    "test_df.info()"
   ]
  },
  {
   "cell_type": "markdown",
   "id": "dcd094e8",
   "metadata": {
    "papermill": {
     "duration": 0.023859,
     "end_time": "2022-12-06T21:44:16.436971",
     "exception": false,
     "start_time": "2022-12-06T21:44:16.413112",
     "status": "completed"
    },
    "tags": []
   },
   "source": [
    "**v. Mengecek Isi Data yang Bernilai NULL**"
   ]
  },
  {
   "cell_type": "code",
   "execution_count": 14,
   "id": "8d8d97e6",
   "metadata": {
    "execution": {
     "iopub.execute_input": "2022-12-06T21:44:16.478634Z",
     "iopub.status.busy": "2022-12-06T21:44:16.477691Z",
     "iopub.status.idle": "2022-12-06T21:44:16.502809Z",
     "shell.execute_reply": "2022-12-06T21:44:16.501670Z"
    },
    "papermill": {
     "duration": 0.045935,
     "end_time": "2022-12-06T21:44:16.505350",
     "exception": false,
     "start_time": "2022-12-06T21:44:16.459415",
     "status": "completed"
    },
    "tags": []
   },
   "outputs": [
    {
     "data": {
      "text/html": [
       "<div>\n",
       "<style scoped>\n",
       "    .dataframe tbody tr th:only-of-type {\n",
       "        vertical-align: middle;\n",
       "    }\n",
       "\n",
       "    .dataframe tbody tr th {\n",
       "        vertical-align: top;\n",
       "    }\n",
       "\n",
       "    .dataframe thead th {\n",
       "        text-align: right;\n",
       "    }\n",
       "</style>\n",
       "<table border=\"1\" class=\"dataframe\">\n",
       "  <thead>\n",
       "    <tr style=\"text-align: right;\">\n",
       "      <th></th>\n",
       "      <th>count</th>\n",
       "      <th>ratio</th>\n",
       "    </tr>\n",
       "  </thead>\n",
       "  <tbody>\n",
       "    <tr>\n",
       "      <th>Unnamed: 0</th>\n",
       "      <td>0</td>\n",
       "      <td>0.000000</td>\n",
       "    </tr>\n",
       "    <tr>\n",
       "      <th>SeriousDlqin2yrs</th>\n",
       "      <td>0</td>\n",
       "      <td>0.000000</td>\n",
       "    </tr>\n",
       "    <tr>\n",
       "      <th>RevolvingUtilizationOfUnsecuredLines</th>\n",
       "      <td>0</td>\n",
       "      <td>0.000000</td>\n",
       "    </tr>\n",
       "    <tr>\n",
       "      <th>age</th>\n",
       "      <td>0</td>\n",
       "      <td>0.000000</td>\n",
       "    </tr>\n",
       "    <tr>\n",
       "      <th>NumberOfTime30-59DaysPastDueNotWorse</th>\n",
       "      <td>0</td>\n",
       "      <td>0.000000</td>\n",
       "    </tr>\n",
       "    <tr>\n",
       "      <th>DebtRatio</th>\n",
       "      <td>0</td>\n",
       "      <td>0.000000</td>\n",
       "    </tr>\n",
       "    <tr>\n",
       "      <th>MonthlyIncome</th>\n",
       "      <td>29731</td>\n",
       "      <td>19.820667</td>\n",
       "    </tr>\n",
       "    <tr>\n",
       "      <th>NumberOfOpenCreditLinesAndLoans</th>\n",
       "      <td>0</td>\n",
       "      <td>0.000000</td>\n",
       "    </tr>\n",
       "    <tr>\n",
       "      <th>NumberOfTimes90DaysLate</th>\n",
       "      <td>0</td>\n",
       "      <td>0.000000</td>\n",
       "    </tr>\n",
       "    <tr>\n",
       "      <th>NumberRealEstateLoansOrLines</th>\n",
       "      <td>0</td>\n",
       "      <td>0.000000</td>\n",
       "    </tr>\n",
       "    <tr>\n",
       "      <th>NumberOfTime60-89DaysPastDueNotWorse</th>\n",
       "      <td>0</td>\n",
       "      <td>0.000000</td>\n",
       "    </tr>\n",
       "    <tr>\n",
       "      <th>NumberOfDependents</th>\n",
       "      <td>3924</td>\n",
       "      <td>2.616000</td>\n",
       "    </tr>\n",
       "  </tbody>\n",
       "</table>\n",
       "</div>"
      ],
      "text/plain": [
       "                                      count      ratio\n",
       "Unnamed: 0                                0   0.000000\n",
       "SeriousDlqin2yrs                          0   0.000000\n",
       "RevolvingUtilizationOfUnsecuredLines      0   0.000000\n",
       "age                                       0   0.000000\n",
       "NumberOfTime30-59DaysPastDueNotWorse      0   0.000000\n",
       "DebtRatio                                 0   0.000000\n",
       "MonthlyIncome                         29731  19.820667\n",
       "NumberOfOpenCreditLinesAndLoans           0   0.000000\n",
       "NumberOfTimes90DaysLate                   0   0.000000\n",
       "NumberRealEstateLoansOrLines              0   0.000000\n",
       "NumberOfTime60-89DaysPastDueNotWorse      0   0.000000\n",
       "NumberOfDependents                     3924   2.616000"
      ]
     },
     "execution_count": 14,
     "metadata": {},
     "output_type": "execute_result"
    }
   ],
   "source": [
    "pd.DataFrame({'count':train_df.isnull().sum().values, 'ratio' : train_df.isnull().mean() * 100})"
   ]
  },
  {
   "cell_type": "code",
   "execution_count": 15,
   "id": "c2f93131",
   "metadata": {
    "execution": {
     "iopub.execute_input": "2022-12-06T21:44:16.543516Z",
     "iopub.status.busy": "2022-12-06T21:44:16.541960Z",
     "iopub.status.idle": "2022-12-06T21:44:16.571919Z",
     "shell.execute_reply": "2022-12-06T21:44:16.563798Z"
    },
    "papermill": {
     "duration": 0.054547,
     "end_time": "2022-12-06T21:44:16.577631",
     "exception": false,
     "start_time": "2022-12-06T21:44:16.523084",
     "status": "completed"
    },
    "tags": []
   },
   "outputs": [
    {
     "data": {
      "text/html": [
       "<div>\n",
       "<style scoped>\n",
       "    .dataframe tbody tr th:only-of-type {\n",
       "        vertical-align: middle;\n",
       "    }\n",
       "\n",
       "    .dataframe tbody tr th {\n",
       "        vertical-align: top;\n",
       "    }\n",
       "\n",
       "    .dataframe thead th {\n",
       "        text-align: right;\n",
       "    }\n",
       "</style>\n",
       "<table border=\"1\" class=\"dataframe\">\n",
       "  <thead>\n",
       "    <tr style=\"text-align: right;\">\n",
       "      <th></th>\n",
       "      <th>count</th>\n",
       "      <th>ratio</th>\n",
       "    </tr>\n",
       "  </thead>\n",
       "  <tbody>\n",
       "    <tr>\n",
       "      <th>Unnamed: 0</th>\n",
       "      <td>0</td>\n",
       "      <td>0.000000</td>\n",
       "    </tr>\n",
       "    <tr>\n",
       "      <th>SeriousDlqin2yrs</th>\n",
       "      <td>101503</td>\n",
       "      <td>0.000000</td>\n",
       "    </tr>\n",
       "    <tr>\n",
       "      <th>RevolvingUtilizationOfUnsecuredLines</th>\n",
       "      <td>0</td>\n",
       "      <td>0.000000</td>\n",
       "    </tr>\n",
       "    <tr>\n",
       "      <th>age</th>\n",
       "      <td>0</td>\n",
       "      <td>0.000000</td>\n",
       "    </tr>\n",
       "    <tr>\n",
       "      <th>NumberOfTime30-59DaysPastDueNotWorse</th>\n",
       "      <td>0</td>\n",
       "      <td>0.000000</td>\n",
       "    </tr>\n",
       "    <tr>\n",
       "      <th>DebtRatio</th>\n",
       "      <td>0</td>\n",
       "      <td>0.000000</td>\n",
       "    </tr>\n",
       "    <tr>\n",
       "      <th>MonthlyIncome</th>\n",
       "      <td>20103</td>\n",
       "      <td>19.820667</td>\n",
       "    </tr>\n",
       "    <tr>\n",
       "      <th>NumberOfOpenCreditLinesAndLoans</th>\n",
       "      <td>0</td>\n",
       "      <td>0.000000</td>\n",
       "    </tr>\n",
       "    <tr>\n",
       "      <th>NumberOfTimes90DaysLate</th>\n",
       "      <td>0</td>\n",
       "      <td>0.000000</td>\n",
       "    </tr>\n",
       "    <tr>\n",
       "      <th>NumberRealEstateLoansOrLines</th>\n",
       "      <td>0</td>\n",
       "      <td>0.000000</td>\n",
       "    </tr>\n",
       "    <tr>\n",
       "      <th>NumberOfTime60-89DaysPastDueNotWorse</th>\n",
       "      <td>0</td>\n",
       "      <td>0.000000</td>\n",
       "    </tr>\n",
       "    <tr>\n",
       "      <th>NumberOfDependents</th>\n",
       "      <td>2626</td>\n",
       "      <td>2.616000</td>\n",
       "    </tr>\n",
       "  </tbody>\n",
       "</table>\n",
       "</div>"
      ],
      "text/plain": [
       "                                       count      ratio\n",
       "Unnamed: 0                                 0   0.000000\n",
       "SeriousDlqin2yrs                      101503   0.000000\n",
       "RevolvingUtilizationOfUnsecuredLines       0   0.000000\n",
       "age                                        0   0.000000\n",
       "NumberOfTime30-59DaysPastDueNotWorse       0   0.000000\n",
       "DebtRatio                                  0   0.000000\n",
       "MonthlyIncome                          20103  19.820667\n",
       "NumberOfOpenCreditLinesAndLoans            0   0.000000\n",
       "NumberOfTimes90DaysLate                    0   0.000000\n",
       "NumberRealEstateLoansOrLines               0   0.000000\n",
       "NumberOfTime60-89DaysPastDueNotWorse       0   0.000000\n",
       "NumberOfDependents                      2626   2.616000"
      ]
     },
     "execution_count": 15,
     "metadata": {},
     "output_type": "execute_result"
    }
   ],
   "source": [
    "pd.DataFrame({'count':test_df.isnull().sum().values, 'ratio' : train_df.isnull().mean() * 100})"
   ]
  },
  {
   "cell_type": "markdown",
   "id": "36934461",
   "metadata": {
    "papermill": {
     "duration": 0.016424,
     "end_time": "2022-12-06T21:44:16.611600",
     "exception": false,
     "start_time": "2022-12-06T21:44:16.595176",
     "status": "completed"
    },
    "tags": []
   },
   "source": [
    "**vi. Membuat Diagram SeriousDlqin2yrs**"
   ]
  },
  {
   "cell_type": "code",
   "execution_count": 16,
   "id": "f69c803a",
   "metadata": {
    "execution": {
     "iopub.execute_input": "2022-12-06T21:44:16.647302Z",
     "iopub.status.busy": "2022-12-06T21:44:16.646890Z",
     "iopub.status.idle": "2022-12-06T21:44:17.074747Z",
     "shell.execute_reply": "2022-12-06T21:44:17.073549Z"
    },
    "papermill": {
     "duration": 0.44898,
     "end_time": "2022-12-06T21:44:17.077478",
     "exception": false,
     "start_time": "2022-12-06T21:44:16.628498",
     "status": "completed"
    },
    "tags": []
   },
   "outputs": [
    {
     "name": "stderr",
     "output_type": "stream",
     "text": [
      "/opt/conda/lib/python3.7/site-packages/seaborn/_decorators.py:43: FutureWarning: Pass the following variable as a keyword arg: x. From version 0.12, the only valid positional argument will be `data`, and passing other arguments without an explicit keyword will result in an error or misinterpretation.\n",
      "  FutureWarning\n"
     ]
    },
    {
     "data": {
      "text/plain": [
       "<AxesSubplot:title={'center':'SeriousDlqin2yrs'}, ylabel='SeriousDlqin2yrs'>"
      ]
     },
     "execution_count": 16,
     "metadata": {},
     "output_type": "execute_result"
    },
    {
     "data": {
      "image/png": "[encoded data removed]",
      "text/plain": [
       "<Figure size 864x432 with 2 Axes>"
      ]
     },
     "metadata": {
      "needs_background": "light"
     },
     "output_type": "display_data"
    }
   ],
   "source": [
    "train_df['SeriousDlqin2yrs'].value_counts()/train_df.shape[0]\n",
    "target_count = train_df[\"SeriousDlqin2yrs\"].value_counts()\n",
    "fig, axes = ml.subplots(1, 2, figsize=(12, 6))\n",
    "sbr.countplot(\"SeriousDlqin2yrs\", data=train_df, ax=axes[0])\n",
    "axes[1].set_title(\"SeriousDlqin2yrs\")\n",
    "target_count.plot.pie(explode=[0, 0.1], autopct='%1.1f%%',ax=axes[1])"
   ]
  },
  {
   "cell_type": "markdown",
   "id": "6e2ed829",
   "metadata": {
    "papermill": {
     "duration": 0.017879,
     "end_time": "2022-12-06T21:44:17.113130",
     "exception": false,
     "start_time": "2022-12-06T21:44:17.095251",
     "status": "completed"
    },
    "tags": []
   },
   "source": [
    "**vii. Membuat Heatmap Berdasarkan Atribut yang Saling Berkaitan Satu Sama Lain**"
   ]
  },
  {
   "cell_type": "code",
   "execution_count": 17,
   "id": "5e5e1b52",
   "metadata": {
    "execution": {
     "iopub.execute_input": "2022-12-06T21:44:17.151139Z",
     "iopub.status.busy": "2022-12-06T21:44:17.150483Z",
     "iopub.status.idle": "2022-12-06T21:44:18.406561Z",
     "shell.execute_reply": "2022-12-06T21:44:18.405235Z"
    },
    "papermill": {
     "duration": 1.278558,
     "end_time": "2022-12-06T21:44:18.409899",
     "exception": false,
     "start_time": "2022-12-06T21:44:17.131341",
     "status": "completed"
    },
    "tags": []
   },
   "outputs": [
    {
     "data": {
      "text/plain": [
       "<AxesSubplot:>"
      ]
     },
     "execution_count": 17,
     "metadata": {},
     "output_type": "execute_result"
    },
    {
     "data": {
      "image/png": "[encoded data removed]",
      "text/plain": [
       "<Figure size 720x720 with 2 Axes>"
      ]
     },
     "metadata": {
      "needs_background": "light"
     },
     "output_type": "display_data"
    }
   ],
   "source": [
    "fig, ax = ml.subplots(figsize=(10, 10))\n",
    "sbr.heatmap(train_df.corr(),  annot=True, cmap='Oranges')"
   ]
  },
  {
   "cell_type": "markdown",
   "id": "de0c4c0b",
   "metadata": {
    "papermill": {
     "duration": 0.019417,
     "end_time": "2022-12-06T21:44:18.449302",
     "exception": false,
     "start_time": "2022-12-06T21:44:18.429885",
     "status": "completed"
    },
    "tags": []
   },
   "source": [
    "**viii. Membuat Diagram Korelasi Antara Usia Peminjam dengan Total Kredit**"
   ]
  },
  {
   "cell_type": "code",
   "execution_count": 18,
   "id": "1d728fca",
   "metadata": {
    "execution": {
     "iopub.execute_input": "2022-12-06T21:44:18.490889Z",
     "iopub.status.busy": "2022-12-06T21:44:18.490490Z",
     "iopub.status.idle": "2022-12-06T21:44:18.495898Z",
     "shell.execute_reply": "2022-12-06T21:44:18.494634Z"
    },
    "papermill": {
     "duration": 0.028954,
     "end_time": "2022-12-06T21:44:18.498343",
     "exception": false,
     "start_time": "2022-12-06T21:44:18.469389",
     "status": "completed"
    },
    "tags": []
   },
   "outputs": [],
   "source": [
    "usia_bin = [x for x in range (0,100,5)]"
   ]
  },
  {
   "cell_type": "code",
   "execution_count": 19,
   "id": "d5345a9e",
   "metadata": {
    "execution": {
     "iopub.execute_input": "2022-12-06T21:44:18.539729Z",
     "iopub.status.busy": "2022-12-06T21:44:18.539039Z",
     "iopub.status.idle": "2022-12-06T21:44:18.751600Z",
     "shell.execute_reply": "2022-12-06T21:44:18.750273Z"
    },
    "papermill": {
     "duration": 0.236364,
     "end_time": "2022-12-06T21:44:18.754242",
     "exception": false,
     "start_time": "2022-12-06T21:44:18.517878",
     "status": "completed"
    },
    "tags": []
   },
   "outputs": [
    {
     "data": {
      "text/plain": [
       "(array([1.0000e+00, 0.0000e+00, 0.0000e+00, 0.0000e+00, 2.0740e+03,\n",
       "        6.7460e+03, 1.0419e+04, 1.2764e+04, 1.5799e+04, 1.8578e+04,\n",
       "        1.8198e+04, 1.7103e+04, 1.7125e+04, 1.1780e+04, 8.0430e+03,\n",
       "        5.5580e+03, 3.2890e+03, 1.8360e+03, 6.2400e+02]),\n",
       " array([ 0,  5, 10, 15, 20, 25, 30, 35, 40, 45, 50, 55, 60, 65, 70, 75, 80,\n",
       "        85, 90, 95]),\n",
       " <BarContainer object of 19 artists>)"
      ]
     },
     "execution_count": 19,
     "metadata": {},
     "output_type": "execute_result"
    },
    {
     "data": {
      "image/png": "[encoded data removed]",
      "text/plain": [
       "<Figure size 432x288 with 1 Axes>"
      ]
     },
     "metadata": {
      "needs_background": "light"
     },
     "output_type": "display_data"
    }
   ],
   "source": [
    "ml.xlabel('Usia Peminjam')\n",
    "\n",
    "ml.ylabel('Total Kredit')\n",
    "\n",
    "ml.hist(train_df[\"age\"], bins = usia_bin)\n",
    "\n"
   ]
  },
  {
   "cell_type": "markdown",
   "id": "2495bc09",
   "metadata": {
    "papermill": {
     "duration": 0.019306,
     "end_time": "2022-12-06T21:44:18.793631",
     "exception": false,
     "start_time": "2022-12-06T21:44:18.774325",
     "status": "completed"
    },
    "tags": []
   },
   "source": [
    "# **B. Feature Engineering**"
   ]
  },
  {
   "cell_type": "markdown",
   "id": "d5f452e5",
   "metadata": {
    "papermill": {
     "duration": 0.01951,
     "end_time": "2022-12-06T21:44:18.833029",
     "exception": false,
     "start_time": "2022-12-06T21:44:18.813519",
     "status": "completed"
    },
    "tags": []
   },
   "source": [
    "**i. Menghapus Outlier**"
   ]
  },
  {
   "cell_type": "code",
   "execution_count": 20,
   "id": "fd47e95a",
   "metadata": {
    "execution": {
     "iopub.execute_input": "2022-12-06T21:44:18.875106Z",
     "iopub.status.busy": "2022-12-06T21:44:18.874658Z",
     "iopub.status.idle": "2022-12-06T21:44:18.881624Z",
     "shell.execute_reply": "2022-12-06T21:44:18.880353Z"
    },
    "papermill": {
     "duration": 0.031067,
     "end_time": "2022-12-06T21:44:18.884002",
     "exception": false,
     "start_time": "2022-12-06T21:44:18.852935",
     "status": "completed"
    },
    "tags": []
   },
   "outputs": [],
   "source": [
    "def hapus_outlier(df, atr_name, max_scale_dari_std):\n",
    "    \n",
    "    f = df[atr_name]\n",
    "    std = f.std()\n",
    "    jarak_dari_mean = f - f.mean()\n",
    "    kondisi = np.abs(jarak_dari_mean) >= max_scale_dari_std * std\n",
    "    df.loc[kondisi, atr_name] = f.mean()\n",
    "    \n",
    "    return df"
   ]
  },
  {
   "cell_type": "code",
   "execution_count": 21,
   "id": "7c75e4f9",
   "metadata": {
    "execution": {
     "iopub.execute_input": "2022-12-06T21:44:18.927105Z",
     "iopub.status.busy": "2022-12-06T21:44:18.926636Z",
     "iopub.status.idle": "2022-12-06T21:44:19.781528Z",
     "shell.execute_reply": "2022-12-06T21:44:19.780346Z"
    },
    "papermill": {
     "duration": 0.879357,
     "end_time": "2022-12-06T21:44:19.783953",
     "exception": false,
     "start_time": "2022-12-06T21:44:18.904596",
     "status": "completed"
    },
    "tags": []
   },
   "outputs": [
    {
     "data": {
      "image/png": "[encoded data removed]",
      "text/plain": [
       "<Figure size 936x432 with 2 Axes>"
      ]
     },
     "metadata": {
      "needs_background": "light"
     },
     "output_type": "display_data"
    }
   ],
   "source": [
    "pertama_atr = train_df['NumberOfTimes90DaysLate']\n",
    "\n",
    "fig, axes = ml.subplots(1, 2, figsize=(13, 6))\n",
    "\n",
    "axes[0].scatter(pertama_atr, pertama_atr)\n",
    "axes[0].set_ylabel(\"Sebelumnya\")\n",
    "\n",
    "train_df = hapus_outlier(train_df, \"NumberOfTimes90DaysLate\", 3)\n",
    "pertama_atr = train_df[\"NumberOfTimes90DaysLate\"]\n",
    "\n",
    "axes[1].scatter(pertama_atr, pertama_atr)\n",
    "axes[1].set_ylabel(\"Sesudahnya\")\n",
    "\n",
    "ml.show()"
   ]
  },
  {
   "cell_type": "code",
   "execution_count": 22,
   "id": "75d541dc",
   "metadata": {
    "execution": {
     "iopub.execute_input": "2022-12-06T21:44:19.826355Z",
     "iopub.status.busy": "2022-12-06T21:44:19.825822Z",
     "iopub.status.idle": "2022-12-06T21:44:20.687724Z",
     "shell.execute_reply": "2022-12-06T21:44:20.686814Z"
    },
    "papermill": {
     "duration": 0.885923,
     "end_time": "2022-12-06T21:44:20.690098",
     "exception": false,
     "start_time": "2022-12-06T21:44:19.804175",
     "status": "completed"
    },
    "tags": []
   },
   "outputs": [
    {
     "data": {
      "image/png": "[encoded data removed]",
      "text/plain": [
       "<Figure size 936x432 with 2 Axes>"
      ]
     },
     "metadata": {
      "needs_background": "light"
     },
     "output_type": "display_data"
    }
   ],
   "source": [
    "kedua_atr = train_df['NumberOfTime30-59DaysPastDueNotWorse']\n",
    "\n",
    "fig, axes = ml.subplots(1, 2, figsize=(13, 6))\n",
    "\n",
    "axes[0].scatter(kedua_atr, kedua_atr)\n",
    "axes[0].set_ylabel(\"Sebelumnya\")\n",
    "\n",
    "train_df = hapus_outlier(train_df, \"NumberOfTime30-59DaysPastDueNotWorse\", 3)\n",
    "kedua_atr = train_df[\"NumberOfTime30-59DaysPastDueNotWorse\"]\n",
    "\n",
    "axes[1].scatter(kedua_atr, kedua_atr)\n",
    "axes[1].set_ylabel(\"Sesudahnya\")\n",
    "\n",
    "ml.show()"
   ]
  },
  {
   "cell_type": "code",
   "execution_count": 23,
   "id": "b0fa8580",
   "metadata": {
    "execution": {
     "iopub.execute_input": "2022-12-06T21:44:20.733979Z",
     "iopub.status.busy": "2022-12-06T21:44:20.733243Z",
     "iopub.status.idle": "2022-12-06T21:44:21.570985Z",
     "shell.execute_reply": "2022-12-06T21:44:21.569847Z"
    },
    "papermill": {
     "duration": 0.862997,
     "end_time": "2022-12-06T21:44:21.573449",
     "exception": false,
     "start_time": "2022-12-06T21:44:20.710452",
     "status": "completed"
    },
    "tags": []
   },
   "outputs": [
    {
     "data": {
      "image/png": "[encoded data removed]",
      "text/plain": [
       "<Figure size 936x432 with 2 Axes>"
      ]
     },
     "metadata": {
      "needs_background": "light"
     },
     "output_type": "display_data"
    }
   ],
   "source": [
    "ketiga_atr = train_df['NumberOfTime60-89DaysPastDueNotWorse']\n",
    "\n",
    "fig, axes = ml.subplots(1, 2, figsize=(13, 6))\n",
    "\n",
    "axes[0].scatter(ketiga_atr, ketiga_atr)\n",
    "axes[0].set_ylabel(\"Sebelumnya\")\n",
    "\n",
    "train_df = hapus_outlier(train_df, \"NumberOfTime60-89DaysPastDueNotWorse\", 3)\n",
    "ketiga_atr = train_df[\"NumberOfTime60-89DaysPastDueNotWorse\"]\n",
    "\n",
    "axes[1].scatter(ketiga_atr, ketiga_atr)\n",
    "axes[1].set_ylabel(\"Sesudahnya\")\n",
    "\n",
    "ml.show()"
   ]
  },
  {
   "cell_type": "markdown",
   "id": "74a076bf",
   "metadata": {
    "papermill": {
     "duration": 0.022259,
     "end_time": "2022-12-06T21:44:21.616798",
     "exception": false,
     "start_time": "2022-12-06T21:44:21.594539",
     "status": "completed"
    },
    "tags": []
   },
   "source": [
    "**ii. Mengecek Kemiringan Data**"
   ]
  },
  {
   "cell_type": "code",
   "execution_count": 24,
   "id": "1bed6c3e",
   "metadata": {
    "execution": {
     "iopub.execute_input": "2022-12-06T21:44:21.660995Z",
     "iopub.status.busy": "2022-12-06T21:44:21.659940Z",
     "iopub.status.idle": "2022-12-06T21:44:23.398845Z",
     "shell.execute_reply": "2022-12-06T21:44:23.397625Z"
    },
    "papermill": {
     "duration": 1.76348,
     "end_time": "2022-12-06T21:44:23.401437",
     "exception": false,
     "start_time": "2022-12-06T21:44:21.637957",
     "status": "completed"
    },
    "tags": []
   },
   "outputs": [
    {
     "name": "stderr",
     "output_type": "stream",
     "text": [
      "/opt/conda/lib/python3.7/site-packages/seaborn/distributions.py:2619: FutureWarning: `distplot` is a deprecated function and will be removed in a future version. Please adapt your code to use either `displot` (a figure-level function with similar flexibility) or `histplot` (an axes-level function for histograms).\n",
      "  warnings.warn(msg, FutureWarning)\n",
      "/opt/conda/lib/python3.7/site-packages/seaborn/distributions.py:2619: FutureWarning: `distplot` is a deprecated function and will be removed in a future version. Please adapt your code to use either `displot` (a figure-level function with similar flexibility) or `histplot` (an axes-level function for histograms).\n",
      "  warnings.warn(msg, FutureWarning)\n"
     ]
    },
    {
     "data": {
      "text/plain": [
       "<AxesSubplot:xlabel='NumberOfDependents', ylabel='Density'>"
      ]
     },
     "execution_count": 24,
     "metadata": {},
     "output_type": "execute_result"
    },
    {
     "data": {
      "image/png": "[encoded data removed]",
      "text/plain": [
       "<Figure size 1296x432 with 2 Axes>"
      ]
     },
     "metadata": {
      "needs_background": "light"
     },
     "output_type": "display_data"
    }
   ],
   "source": [
    "fig, ax = ml.subplots(figsize=(18, 6), ncols=2)\n",
    "\n",
    "sbr.distplot(train_df[\"MonthlyIncome\"], ax=ax[0])\n",
    "\n",
    "sbr.distplot(train_df[\"NumberOfDependents\"], ax=ax[1])\n"
   ]
  },
  {
   "cell_type": "code",
   "execution_count": 25,
   "id": "73859cb0",
   "metadata": {
    "execution": {
     "iopub.execute_input": "2022-12-06T21:44:23.447781Z",
     "iopub.status.busy": "2022-12-06T21:44:23.446558Z",
     "iopub.status.idle": "2022-12-06T21:44:24.992069Z",
     "shell.execute_reply": "2022-12-06T21:44:24.990608Z"
    },
    "papermill": {
     "duration": 1.571,
     "end_time": "2022-12-06T21:44:24.994480",
     "exception": false,
     "start_time": "2022-12-06T21:44:23.423480",
     "status": "completed"
    },
    "tags": []
   },
   "outputs": [
    {
     "name": "stderr",
     "output_type": "stream",
     "text": [
      "/opt/conda/lib/python3.7/site-packages/seaborn/distributions.py:2619: FutureWarning: `distplot` is a deprecated function and will be removed in a future version. Please adapt your code to use either `displot` (a figure-level function with similar flexibility) or `histplot` (an axes-level function for histograms).\n",
      "  warnings.warn(msg, FutureWarning)\n",
      "/opt/conda/lib/python3.7/site-packages/seaborn/distributions.py:2619: FutureWarning: `distplot` is a deprecated function and will be removed in a future version. Please adapt your code to use either `displot` (a figure-level function with similar flexibility) or `histplot` (an axes-level function for histograms).\n",
      "  warnings.warn(msg, FutureWarning)\n"
     ]
    },
    {
     "data": {
      "text/plain": [
       "<AxesSubplot:xlabel='NumberOfDependents', ylabel='Density'>"
      ]
     },
     "execution_count": 25,
     "metadata": {},
     "output_type": "execute_result"
    },
    {
     "data": {
      "image/png": "[encoded data removed]",
      "text/plain": [
       "<Figure size 1296x432 with 2 Axes>"
      ]
     },
     "metadata": {
      "needs_background": "light"
     },
     "output_type": "display_data"
    }
   ],
   "source": [
    "fig, ax = ml.subplots(figsize=(18, 6), ncols=2)\n",
    "\n",
    "sbr.distplot(test_df[\"MonthlyIncome\"], ax=ax[0])\n",
    "\n",
    "sbr.distplot(test_df[\"NumberOfDependents\"], ax=ax[1]) \n"
   ]
  },
  {
   "cell_type": "markdown",
   "id": "39b4386b",
   "metadata": {
    "papermill": {
     "duration": 0.023212,
     "end_time": "2022-12-06T21:44:25.040877",
     "exception": false,
     "start_time": "2022-12-06T21:44:25.017665",
     "status": "completed"
    },
    "tags": []
   },
   "source": [
    "**iii. Mencari Rata - Rata, Nilai Tengah, serta Modus**"
   ]
  },
  {
   "cell_type": "code",
   "execution_count": 26,
   "id": "4bfd826c",
   "metadata": {
    "execution": {
     "iopub.execute_input": "2022-12-06T21:44:25.087338Z",
     "iopub.status.busy": "2022-12-06T21:44:25.086838Z",
     "iopub.status.idle": "2022-12-06T21:44:25.101761Z",
     "shell.execute_reply": "2022-12-06T21:44:25.100458Z"
    },
    "papermill": {
     "duration": 0.041695,
     "end_time": "2022-12-06T21:44:25.104692",
     "exception": false,
     "start_time": "2022-12-06T21:44:25.062997",
     "status": "completed"
    },
    "tags": []
   },
   "outputs": [],
   "source": [
    "number_of_dependents_train = train_df[\"NumberOfDependents\"]\n",
    "\n",
    "number_of_dependents_train_median = number_of_dependents_train.median()\n",
    "\n",
    "number_of_dependents_train_mean = number_of_dependents_train.mean()\n",
    "\n",
    "number_of_dependents_train_mode = number_of_dependents_train.mode().mean()"
   ]
  },
  {
   "cell_type": "code",
   "execution_count": 27,
   "id": "6e25eaf7",
   "metadata": {
    "execution": {
     "iopub.execute_input": "2022-12-06T21:44:25.152556Z",
     "iopub.status.busy": "2022-12-06T21:44:25.152107Z",
     "iopub.status.idle": "2022-12-06T21:44:25.168347Z",
     "shell.execute_reply": "2022-12-06T21:44:25.166938Z"
    },
    "papermill": {
     "duration": 0.043806,
     "end_time": "2022-12-06T21:44:25.171132",
     "exception": false,
     "start_time": "2022-12-06T21:44:25.127326",
     "status": "completed"
    },
    "tags": []
   },
   "outputs": [],
   "source": [
    "monthly_income_train = train_df[\"MonthlyIncome\"]\n",
    "\n",
    "monthly_income_train_median = monthly_income_train.median()\n",
    "\n",
    "monthly_income_train_mean = monthly_income_train.mean()\n",
    "\n",
    "monthly_income_train_mode = monthly_income_train.mode().mean()"
   ]
  },
  {
   "cell_type": "code",
   "execution_count": 28,
   "id": "734340e1",
   "metadata": {
    "execution": {
     "iopub.execute_input": "2022-12-06T21:44:25.218961Z",
     "iopub.status.busy": "2022-12-06T21:44:25.218547Z",
     "iopub.status.idle": "2022-12-06T21:44:25.226424Z",
     "shell.execute_reply": "2022-12-06T21:44:25.225125Z"
    },
    "papermill": {
     "duration": 0.034545,
     "end_time": "2022-12-06T21:44:25.228942",
     "exception": false,
     "start_time": "2022-12-06T21:44:25.194397",
     "status": "completed"
    },
    "tags": []
   },
   "outputs": [
    {
     "name": "stdout",
     "output_type": "stream",
     "text": [
      "Detail Number Of Dependents\n",
      "------------------------------------------\n",
      "Median Nilai Tengah Number of Dependents: 0.0\n",
      "Rata - rata Number of Dependents: 0.7572222678605657\n",
      "Modus Rata - rata Number of Dependents: 0.0\n",
      "                                          \n",
      "                                          \n",
      "Detail Monthly Income\n",
      "------------------------------------------\n",
      "Median Nilai Tengah Monthly Income: 5400.0\n",
      "Rata - rata Monthly Income: 6670.221237392844\n",
      "Modus Rata - rata Monthly Income: 5000.0\n"
     ]
    }
   ],
   "source": [
    "print(\"Detail Number Of Dependents\")\n",
    "print(\"------------------------------------------\")\n",
    "\n",
    "print(\"Median Nilai Tengah Number of Dependents:\", number_of_dependents_train_median)\n",
    "print(\"Rata - rata Number of Dependents:\", number_of_dependents_train_mean)\n",
    "print(\"Modus Rata - rata Number of Dependents:\", number_of_dependents_train_mode)\n",
    "\n",
    "print(\"                                          \")\n",
    "print(\"                                          \")\n",
    "\n",
    "print(\"Detail Monthly Income\")\n",
    "print(\"------------------------------------------\")\n",
    "\n",
    "print(\"Median Nilai Tengah Monthly Income:\", monthly_income_train_median)\n",
    "print(\"Rata - rata Monthly Income:\", monthly_income_train_mean)\n",
    "print(\"Modus Rata - rata Monthly Income:\", monthly_income_train_mode)"
   ]
  },
  {
   "cell_type": "code",
   "execution_count": 29,
   "id": "322cac6e",
   "metadata": {
    "execution": {
     "iopub.execute_input": "2022-12-06T21:44:25.275074Z",
     "iopub.status.busy": "2022-12-06T21:44:25.274540Z",
     "iopub.status.idle": "2022-12-06T21:44:25.287178Z",
     "shell.execute_reply": "2022-12-06T21:44:25.285874Z"
    },
    "papermill": {
     "duration": 0.039003,
     "end_time": "2022-12-06T21:44:25.289867",
     "exception": false,
     "start_time": "2022-12-06T21:44:25.250864",
     "status": "completed"
    },
    "tags": []
   },
   "outputs": [],
   "source": [
    "number_of_dependents_test = test_df[\"NumberOfDependents\"]\n",
    "\n",
    "number_of_dependents_test_median = number_of_dependents_test.median()\n",
    "\n",
    "number_of_dependents_test_mean = number_of_dependents_test.mean()\n",
    "\n",
    "number_of_dependents_test_mode = number_of_dependents_test.mode().mean()"
   ]
  },
  {
   "cell_type": "code",
   "execution_count": 30,
   "id": "e0fe191c",
   "metadata": {
    "execution": {
     "iopub.execute_input": "2022-12-06T21:44:25.336659Z",
     "iopub.status.busy": "2022-12-06T21:44:25.336205Z",
     "iopub.status.idle": "2022-12-06T21:44:25.349368Z",
     "shell.execute_reply": "2022-12-06T21:44:25.348118Z"
    },
    "papermill": {
     "duration": 0.0398,
     "end_time": "2022-12-06T21:44:25.352040",
     "exception": false,
     "start_time": "2022-12-06T21:44:25.312240",
     "status": "completed"
    },
    "tags": []
   },
   "outputs": [],
   "source": [
    "monthly_income_test = test_df[\"MonthlyIncome\"]\n",
    "\n",
    "monthly_income_test_median = monthly_income_test.median()\n",
    "\n",
    "monthly_income_test_mean = monthly_income_test.mean()\n",
    "\n",
    "monthly_income_test_mode = monthly_income_test.mode().mean()"
   ]
  },
  {
   "cell_type": "code",
   "execution_count": 31,
   "id": "f037a8b1",
   "metadata": {
    "execution": {
     "iopub.execute_input": "2022-12-06T21:44:25.399212Z",
     "iopub.status.busy": "2022-12-06T21:44:25.398772Z",
     "iopub.status.idle": "2022-12-06T21:44:25.406762Z",
     "shell.execute_reply": "2022-12-06T21:44:25.405563Z"
    },
    "papermill": {
     "duration": 0.034862,
     "end_time": "2022-12-06T21:44:25.409326",
     "exception": false,
     "start_time": "2022-12-06T21:44:25.374464",
     "status": "completed"
    },
    "tags": []
   },
   "outputs": [
    {
     "name": "stdout",
     "output_type": "stream",
     "text": [
      "Detail Number Of Dependents\n",
      "------------------------------------------\n",
      "Median Nilai Tengah Number of Dependents: 0.0\n",
      "Rata - rata Number of Dependents: 0.7690463909705998\n",
      "Modus Rata - rata Number of Dependents: 0.0\n",
      "                                          \n",
      "                                          \n",
      "Detail Monthly Income\n",
      "------------------------------------------\n",
      "Median Nilai Tengah Monthly Income: 5400.0\n",
      "Rata - rata Monthly Income: 6855.0355896805895\n",
      "Modus Rata - rata Monthly Income: 5000.0\n"
     ]
    }
   ],
   "source": [
    "print(\"Detail Number Of Dependents\")\n",
    "print(\"------------------------------------------\")\n",
    "\n",
    "print(\"Median Nilai Tengah Number of Dependents:\", number_of_dependents_test_median)\n",
    "print(\"Rata - rata Number of Dependents:\", number_of_dependents_test_mean)\n",
    "print(\"Modus Rata - rata Number of Dependents:\", number_of_dependents_test_mode)\n",
    "\n",
    "print(\"                                          \")\n",
    "print(\"                                          \")\n",
    "\n",
    "print(\"Detail Monthly Income\")\n",
    "print(\"------------------------------------------\")\n",
    "\n",
    "print(\"Median Nilai Tengah Monthly Income:\", monthly_income_test_median)\n",
    "print(\"Rata - rata Monthly Income:\", monthly_income_test_mean)\n",
    "print(\"Modus Rata - rata Monthly Income:\", monthly_income_test_mode)"
   ]
  },
  {
   "cell_type": "markdown",
   "id": "5e85462d",
   "metadata": {
    "papermill": {
     "duration": 0.022486,
     "end_time": "2022-12-06T21:44:25.454723",
     "exception": false,
     "start_time": "2022-12-06T21:44:25.432237",
     "status": "completed"
    },
    "tags": []
   },
   "source": [
    "**iv. Mengisi Nilai NULL**"
   ]
  },
  {
   "cell_type": "code",
   "execution_count": 32,
   "id": "3285eb05",
   "metadata": {
    "execution": {
     "iopub.execute_input": "2022-12-06T21:44:25.501350Z",
     "iopub.status.busy": "2022-12-06T21:44:25.500880Z",
     "iopub.status.idle": "2022-12-06T21:44:25.510681Z",
     "shell.execute_reply": "2022-12-06T21:44:25.509541Z"
    },
    "papermill": {
     "duration": 0.035952,
     "end_time": "2022-12-06T21:44:25.513067",
     "exception": false,
     "start_time": "2022-12-06T21:44:25.477115",
     "status": "completed"
    },
    "tags": []
   },
   "outputs": [],
   "source": [
    "train_df['NumberOfDependents'].fillna(number_of_dependents_train_mode, inplace=True)\n",
    "test_df['NumberOfDependents'].fillna(number_of_dependents_test_mode, inplace=True)\n",
    "\n",
    "train_df['MonthlyIncome'].fillna(monthly_income_train_mode, inplace=True)\n",
    "test_df['MonthlyIncome'].fillna(monthly_income_test_mode, inplace=True)"
   ]
  },
  {
   "cell_type": "code",
   "execution_count": 33,
   "id": "4e47517d",
   "metadata": {
    "execution": {
     "iopub.execute_input": "2022-12-06T21:44:25.559971Z",
     "iopub.status.busy": "2022-12-06T21:44:25.559563Z",
     "iopub.status.idle": "2022-12-06T21:44:25.573548Z",
     "shell.execute_reply": "2022-12-06T21:44:25.572231Z"
    },
    "papermill": {
     "duration": 0.040914,
     "end_time": "2022-12-06T21:44:25.576179",
     "exception": false,
     "start_time": "2022-12-06T21:44:25.535265",
     "status": "completed"
    },
    "tags": []
   },
   "outputs": [
    {
     "data": {
      "text/plain": [
       "Unnamed: 0                              0\n",
       "SeriousDlqin2yrs                        0\n",
       "RevolvingUtilizationOfUnsecuredLines    0\n",
       "age                                     0\n",
       "NumberOfTime30-59DaysPastDueNotWorse    0\n",
       "DebtRatio                               0\n",
       "MonthlyIncome                           0\n",
       "NumberOfOpenCreditLinesAndLoans         0\n",
       "NumberOfTimes90DaysLate                 0\n",
       "NumberRealEstateLoansOrLines            0\n",
       "NumberOfTime60-89DaysPastDueNotWorse    0\n",
       "NumberOfDependents                      0\n",
       "dtype: int64"
      ]
     },
     "execution_count": 33,
     "metadata": {},
     "output_type": "execute_result"
    }
   ],
   "source": [
    "train_df.isnull().sum()"
   ]
  },
  {
   "cell_type": "code",
   "execution_count": 34,
   "id": "d9d7e77d",
   "metadata": {
    "execution": {
     "iopub.execute_input": "2022-12-06T21:44:25.622618Z",
     "iopub.status.busy": "2022-12-06T21:44:25.622231Z",
     "iopub.status.idle": "2022-12-06T21:44:25.633676Z",
     "shell.execute_reply": "2022-12-06T21:44:25.632550Z"
    },
    "papermill": {
     "duration": 0.037592,
     "end_time": "2022-12-06T21:44:25.636014",
     "exception": false,
     "start_time": "2022-12-06T21:44:25.598422",
     "status": "completed"
    },
    "tags": []
   },
   "outputs": [
    {
     "data": {
      "text/plain": [
       "Unnamed: 0                                   0\n",
       "SeriousDlqin2yrs                        101503\n",
       "RevolvingUtilizationOfUnsecuredLines         0\n",
       "age                                          0\n",
       "NumberOfTime30-59DaysPastDueNotWorse         0\n",
       "DebtRatio                                    0\n",
       "MonthlyIncome                                0\n",
       "NumberOfOpenCreditLinesAndLoans              0\n",
       "NumberOfTimes90DaysLate                      0\n",
       "NumberRealEstateLoansOrLines                 0\n",
       "NumberOfTime60-89DaysPastDueNotWorse         0\n",
       "NumberOfDependents                           0\n",
       "dtype: int64"
      ]
     },
     "execution_count": 34,
     "metadata": {},
     "output_type": "execute_result"
    }
   ],
   "source": [
    "test_df.isnull().sum()"
   ]
  },
  {
   "cell_type": "markdown",
   "id": "dfbf36b7",
   "metadata": {
    "papermill": {
     "duration": 0.022335,
     "end_time": "2022-12-06T21:44:25.684165",
     "exception": false,
     "start_time": "2022-12-06T21:44:25.661830",
     "status": "completed"
    },
    "tags": []
   },
   "source": [
    "# **C. Model Iterations**"
   ]
  },
  {
   "cell_type": "markdown",
   "id": "9a7250c9",
   "metadata": {
    "papermill": {
     "duration": 0.022181,
     "end_time": "2022-12-06T21:44:25.728688",
     "exception": false,
     "start_time": "2022-12-06T21:44:25.706507",
     "status": "completed"
    },
    "tags": []
   },
   "source": [
    "**i. Membuat Data Testing**"
   ]
  },
  {
   "cell_type": "code",
   "execution_count": 35,
   "id": "f80fd447",
   "metadata": {
    "execution": {
     "iopub.execute_input": "2022-12-06T21:44:25.775878Z",
     "iopub.status.busy": "2022-12-06T21:44:25.775050Z",
     "iopub.status.idle": "2022-12-06T21:44:25.801472Z",
     "shell.execute_reply": "2022-12-06T21:44:25.800270Z"
    },
    "papermill": {
     "duration": 0.053236,
     "end_time": "2022-12-06T21:44:25.804312",
     "exception": false,
     "start_time": "2022-12-06T21:44:25.751076",
     "status": "completed"
    },
    "tags": []
   },
   "outputs": [
    {
     "name": "stdout",
     "output_type": "stream",
     "text": [
      "<class 'pandas.core.frame.DataFrame'>\n",
      "RangeIndex: 150000 entries, 0 to 149999\n",
      "Data columns (total 12 columns):\n",
      " #   Column                                Non-Null Count   Dtype  \n",
      "---  ------                                --------------   -----  \n",
      " 0   Unnamed: 0                            150000 non-null  int64  \n",
      " 1   SeriousDlqin2yrs                      150000 non-null  int64  \n",
      " 2   RevolvingUtilizationOfUnsecuredLines  150000 non-null  float64\n",
      " 3   age                                   150000 non-null  int64  \n",
      " 4   NumberOfTime30-59DaysPastDueNotWorse  150000 non-null  float64\n",
      " 5   DebtRatio                             150000 non-null  float64\n",
      " 6   MonthlyIncome                         150000 non-null  float64\n",
      " 7   NumberOfOpenCreditLinesAndLoans       150000 non-null  int64  \n",
      " 8   NumberOfTimes90DaysLate               150000 non-null  float64\n",
      " 9   NumberRealEstateLoansOrLines          150000 non-null  int64  \n",
      " 10  NumberOfTime60-89DaysPastDueNotWorse  150000 non-null  float64\n",
      " 11  NumberOfDependents                    150000 non-null  float64\n",
      "dtypes: float64(7), int64(5)\n",
      "memory usage: 13.7 MB\n",
      "\n",
      "_________________________________________________________________\n",
      "\n",
      "<class 'pandas.core.frame.DataFrame'>\n",
      "RangeIndex: 101503 entries, 0 to 101502\n",
      "Data columns (total 12 columns):\n",
      " #   Column                                Non-Null Count   Dtype  \n",
      "---  ------                                --------------   -----  \n",
      " 0   Unnamed: 0                            101503 non-null  int64  \n",
      " 1   SeriousDlqin2yrs                      0 non-null       float64\n",
      " 2   RevolvingUtilizationOfUnsecuredLines  101503 non-null  float64\n",
      " 3   age                                   101503 non-null  int64  \n",
      " 4   NumberOfTime30-59DaysPastDueNotWorse  101503 non-null  int64  \n",
      " 5   DebtRatio                             101503 non-null  float64\n",
      " 6   MonthlyIncome                         101503 non-null  float64\n",
      " 7   NumberOfOpenCreditLinesAndLoans       101503 non-null  int64  \n",
      " 8   NumberOfTimes90DaysLate               101503 non-null  int64  \n",
      " 9   NumberRealEstateLoansOrLines          101503 non-null  int64  \n",
      " 10  NumberOfTime60-89DaysPastDueNotWorse  101503 non-null  int64  \n",
      " 11  NumberOfDependents                    101503 non-null  float64\n",
      "dtypes: float64(5), int64(7)\n",
      "memory usage: 9.3 MB\n"
     ]
    }
   ],
   "source": [
    "train_df.info()\n",
    "print(\"\")\n",
    "print(\"_________________________________________________________________\")\n",
    "print(\"\")\n",
    "test_df.info()"
   ]
  },
  {
   "cell_type": "code",
   "execution_count": 36,
   "id": "f6bdadf0",
   "metadata": {
    "execution": {
     "iopub.execute_input": "2022-12-06T21:44:25.852967Z",
     "iopub.status.busy": "2022-12-06T21:44:25.852550Z",
     "iopub.status.idle": "2022-12-06T21:44:25.868833Z",
     "shell.execute_reply": "2022-12-06T21:44:25.867722Z"
    },
    "papermill": {
     "duration": 0.044398,
     "end_time": "2022-12-06T21:44:25.871438",
     "exception": false,
     "start_time": "2022-12-06T21:44:25.827040",
     "status": "completed"
    },
    "tags": []
   },
   "outputs": [],
   "source": [
    "x = train_df.drop(\"SeriousDlqin2yrs\", axis = 1)\n",
    "y = train_df[\"SeriousDlqin2yrs\"]"
   ]
  },
  {
   "cell_type": "code",
   "execution_count": 37,
   "id": "0200fc02",
   "metadata": {
    "execution": {
     "iopub.execute_input": "2022-12-06T21:44:25.919306Z",
     "iopub.status.busy": "2022-12-06T21:44:25.918400Z",
     "iopub.status.idle": "2022-12-06T21:44:26.171500Z",
     "shell.execute_reply": "2022-12-06T21:44:26.170123Z"
    },
    "papermill": {
     "duration": 0.279994,
     "end_time": "2022-12-06T21:44:26.174102",
     "exception": false,
     "start_time": "2022-12-06T21:44:25.894108",
     "status": "completed"
    },
    "tags": []
   },
   "outputs": [],
   "source": [
    "from sklearn.model_selection import train_test_split \n",
    "x_train, x_test, y_train, y_test = train_test_split(x, y, test_size=0.3, random_state=42)"
   ]
  },
  {
   "cell_type": "markdown",
   "id": "45c39756",
   "metadata": {
    "papermill": {
     "duration": 0.021942,
     "end_time": "2022-12-06T21:44:26.218437",
     "exception": false,
     "start_time": "2022-12-06T21:44:26.196495",
     "status": "completed"
    },
    "tags": []
   },
   "source": [
    "**ii. Membuat Model Random Forest**"
   ]
  },
  {
   "cell_type": "code",
   "execution_count": 38,
   "id": "5077e95f",
   "metadata": {
    "execution": {
     "iopub.execute_input": "2022-12-06T21:44:26.265328Z",
     "iopub.status.busy": "2022-12-06T21:44:26.264297Z",
     "iopub.status.idle": "2022-12-06T21:44:26.495785Z",
     "shell.execute_reply": "2022-12-06T21:44:26.494597Z"
    },
    "papermill": {
     "duration": 0.257977,
     "end_time": "2022-12-06T21:44:26.498751",
     "exception": false,
     "start_time": "2022-12-06T21:44:26.240774",
     "status": "completed"
    },
    "tags": []
   },
   "outputs": [],
   "source": [
    "from sklearn.ensemble import RandomForestClassifier\n",
    "parameter = {'n_estimators': [9,27,36],'max_depth': [3,7,9],'min_samples_leaf': [2, 4]}\n",
    "ranforestclass = RandomForestClassifier()"
   ]
  },
  {
   "cell_type": "code",
   "execution_count": 39,
   "id": "822323fa",
   "metadata": {
    "execution": {
     "iopub.execute_input": "2022-12-06T21:44:26.546735Z",
     "iopub.status.busy": "2022-12-06T21:44:26.546295Z",
     "iopub.status.idle": "2022-12-06T21:44:26.551130Z",
     "shell.execute_reply": "2022-12-06T21:44:26.550272Z"
    },
    "papermill": {
     "duration": 0.031437,
     "end_time": "2022-12-06T21:44:26.553349",
     "exception": false,
     "start_time": "2022-12-06T21:44:26.521912",
     "status": "completed"
    },
    "tags": []
   },
   "outputs": [],
   "source": [
    "from sklearn.model_selection import RandomizedSearchCV\n",
    "ranforestsrc = RandomizedSearchCV(ranforestclass, param_distributions=parameter, cv=5)"
   ]
  },
  {
   "cell_type": "code",
   "execution_count": 40,
   "id": "15dfccd0",
   "metadata": {
    "execution": {
     "iopub.execute_input": "2022-12-06T21:44:26.601987Z",
     "iopub.status.busy": "2022-12-06T21:44:26.601348Z",
     "iopub.status.idle": "2022-12-06T21:46:26.776303Z",
     "shell.execute_reply": "2022-12-06T21:46:26.775009Z"
    },
    "papermill": {
     "duration": 120.224004,
     "end_time": "2022-12-06T21:46:26.801102",
     "exception": false,
     "start_time": "2022-12-06T21:44:26.577098",
     "status": "completed"
    },
    "tags": []
   },
   "outputs": [
    {
     "data": {
      "text/plain": [
       "RandomizedSearchCV(cv=5, estimator=RandomForestClassifier(),\n",
       "                   param_distributions={'max_depth': [3, 7, 9],\n",
       "                                        'min_samples_leaf': [2, 4],\n",
       "                                        'n_estimators': [9, 27, 36]})"
      ]
     },
     "execution_count": 40,
     "metadata": {},
     "output_type": "execute_result"
    }
   ],
   "source": [
    "ranforestsrc.fit(x_train, y_train)"
   ]
  },
  {
   "cell_type": "code",
   "execution_count": 41,
   "id": "5d13e63c",
   "metadata": {
    "execution": {
     "iopub.execute_input": "2022-12-06T21:46:26.850702Z",
     "iopub.status.busy": "2022-12-06T21:46:26.850265Z",
     "iopub.status.idle": "2022-12-06T21:46:26.857760Z",
     "shell.execute_reply": "2022-12-06T21:46:26.856841Z"
    },
    "papermill": {
     "duration": 0.035147,
     "end_time": "2022-12-06T21:46:26.859754",
     "exception": false,
     "start_time": "2022-12-06T21:46:26.824607",
     "status": "completed"
    },
    "tags": []
   },
   "outputs": [
    {
     "data": {
      "text/plain": [
       "RandomForestClassifier(max_depth=7, min_samples_leaf=4, n_estimators=27)"
      ]
     },
     "execution_count": 41,
     "metadata": {},
     "output_type": "execute_result"
    }
   ],
   "source": [
    "best_estimator_ranforestclass = ranforestsrc.best_estimator_\n",
    "best_estimator_ranforestclass"
   ]
  },
  {
   "cell_type": "code",
   "execution_count": 42,
   "id": "a2f0a0ac",
   "metadata": {
    "execution": {
     "iopub.execute_input": "2022-12-06T21:46:26.909367Z",
     "iopub.status.busy": "2022-12-06T21:46:26.908535Z",
     "iopub.status.idle": "2022-12-06T21:46:27.302673Z",
     "shell.execute_reply": "2022-12-06T21:46:27.301323Z"
    },
    "papermill": {
     "duration": 0.420712,
     "end_time": "2022-12-06T21:46:27.305061",
     "exception": false,
     "start_time": "2022-12-06T21:46:26.884349",
     "status": "completed"
    },
    "tags": []
   },
   "outputs": [
    {
     "name": "stdout",
     "output_type": "stream",
     "text": [
      "Akurasi Training = 93.90\n",
      "Akurasi Validasi = 93.76\n"
     ]
    }
   ],
   "source": [
    "print(\"Akurasi Training = {:.2f}\".format(ranforestsrc.score(x_train, y_train) * 100))\n",
    "print(\"Akurasi Validasi = {:.2f}\".format(ranforestsrc.score(x_test, y_test) * 100))"
   ]
  },
  {
   "cell_type": "markdown",
   "id": "3006e8ce",
   "metadata": {
    "papermill": {
     "duration": 0.02279,
     "end_time": "2022-12-06T21:46:27.351100",
     "exception": false,
     "start_time": "2022-12-06T21:46:27.328310",
     "status": "completed"
    },
    "tags": []
   },
   "source": [
    "**iii. Mencari Regresi Logistik**"
   ]
  },
  {
   "cell_type": "code",
   "execution_count": 43,
   "id": "d660d0d6",
   "metadata": {
    "execution": {
     "iopub.execute_input": "2022-12-06T21:46:27.400215Z",
     "iopub.status.busy": "2022-12-06T21:46:27.399321Z",
     "iopub.status.idle": "2022-12-06T21:46:28.333972Z",
     "shell.execute_reply": "2022-12-06T21:46:28.332666Z"
    },
    "papermill": {
     "duration": 0.962471,
     "end_time": "2022-12-06T21:46:28.336923",
     "exception": false,
     "start_time": "2022-12-06T21:46:27.374452",
     "status": "completed"
    },
    "tags": []
   },
   "outputs": [
    {
     "data": {
      "text/html": [
       "<style type='text/css'>\n",
       ".datatable table.frame { margin-bottom: 0; }\n",
       ".datatable table.frame thead { border-bottom: none; }\n",
       ".datatable table.frame tr.coltypes td {  color: #FFFFFF;  line-height: 6px;  padding: 0 0.5em;}\n",
       ".datatable .bool    { background: #DDDD99; }\n",
       ".datatable .object  { background: #565656; }\n",
       ".datatable .int     { background: #5D9E5D; }\n",
       ".datatable .float   { background: #4040CC; }\n",
       ".datatable .str     { background: #CC4040; }\n",
       ".datatable .time    { background: #40CC40; }\n",
       ".datatable .row_index {  background: var(--jp-border-color3);  border-right: 1px solid var(--jp-border-color0);  color: var(--jp-ui-font-color3);  font-size: 9px;}\n",
       ".datatable .frame tbody td { text-align: left; }\n",
       ".datatable .frame tr.coltypes .row_index {  background: var(--jp-border-color0);}\n",
       ".datatable th:nth-child(2) { padding-left: 12px; }\n",
       ".datatable .hellipsis {  color: var(--jp-cell-editor-border-color);}\n",
       ".datatable .vellipsis {  background: var(--jp-layout-color0);  color: var(--jp-cell-editor-border-color);}\n",
       ".datatable .na {  color: var(--jp-cell-editor-border-color);  font-size: 80%;}\n",
       ".datatable .sp {  opacity: 0.25;}\n",
       ".datatable .footer { font-size: 9px; }\n",
       ".datatable .frame_dimensions {  background: var(--jp-border-color3);  border-top: 1px solid var(--jp-border-color0);  color: var(--jp-ui-font-color3);  display: inline-block;  opacity: 0.6;  padding: 1px 10px 1px 5px;}\n",
       ".datatable .frame thead tr.colnames {  background-image: url('data:image/png;base64,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');  background-repeat: repeat-x;  background-size: 14px;  height: 28px;}\n",
       "</style>\n"
      ],
      "text/plain": [
       "<IPython.core.display.HTML object>"
      ]
     },
     "metadata": {},
     "output_type": "display_data"
    }
   ],
   "source": [
    "from lightgbm import LGBMClassifier\n",
    "parameter = {'n_estimators': [100, 250],'max_depth': [8, 24],'num_leaves': [25, 50],'first_metric_only': [True]}\n",
    "lgb = LGBMClassifier()"
   ]
  },
  {
   "cell_type": "code",
   "execution_count": 44,
   "id": "12e5c1c1",
   "metadata": {
    "execution": {
     "iopub.execute_input": "2022-12-06T21:46:28.387110Z",
     "iopub.status.busy": "2022-12-06T21:46:28.385764Z",
     "iopub.status.idle": "2022-12-06T21:46:28.393056Z",
     "shell.execute_reply": "2022-12-06T21:46:28.391803Z"
    },
    "papermill": {
     "duration": 0.034799,
     "end_time": "2022-12-06T21:46:28.395781",
     "exception": false,
     "start_time": "2022-12-06T21:46:28.360982",
     "status": "completed"
    },
    "tags": []
   },
   "outputs": [],
   "source": [
    "from sklearn.model_selection import GridSearchCV\n",
    "gs = GridSearchCV(estimator=lgb,param_grid=parameter,cv=5,)"
   ]
  },
  {
   "cell_type": "code",
   "execution_count": 45,
   "id": "d5a23232",
   "metadata": {
    "execution": {
     "iopub.execute_input": "2022-12-06T21:46:28.443747Z",
     "iopub.status.busy": "2022-12-06T21:46:28.443086Z",
     "iopub.status.idle": "2022-12-06T21:46:28.449786Z",
     "shell.execute_reply": "2022-12-06T21:46:28.448452Z"
    },
    "papermill": {
     "duration": 0.033686,
     "end_time": "2022-12-06T21:46:28.452508",
     "exception": false,
     "start_time": "2022-12-06T21:46:28.418822",
     "status": "completed"
    },
    "tags": []
   },
   "outputs": [],
   "source": [
    "from sklearn.linear_model import LogisticRegression\n",
    "parameter = {'solver': ['newton-cg', 'lbfgs'],'penalty': ['l2', 'elasticnet'],'C': [ 1e-1, 1],}\n",
    "lr = LogisticRegression()"
   ]
  },
  {
   "cell_type": "code",
   "execution_count": 46,
   "id": "7c196075",
   "metadata": {
    "execution": {
     "iopub.execute_input": "2022-12-06T21:46:28.501377Z",
     "iopub.status.busy": "2022-12-06T21:46:28.500362Z",
     "iopub.status.idle": "2022-12-06T21:48:18.151201Z",
     "shell.execute_reply": "2022-12-06T21:48:18.149397Z"
    },
    "papermill": {
     "duration": 109.680691,
     "end_time": "2022-12-06T21:48:18.156597",
     "exception": false,
     "start_time": "2022-12-06T21:46:28.475906",
     "status": "completed"
    },
    "tags": []
   },
   "outputs": [],
   "source": [
    "%%capture --no-display\n",
    "gs_lr = GridSearchCV(estimator=lr,param_grid=parameter,cv=5)\n",
    "lr_fit = gs_lr.fit(x_train, y_train)"
   ]
  },
  {
   "cell_type": "code",
   "execution_count": 47,
   "id": "f34095a9",
   "metadata": {
    "execution": {
     "iopub.execute_input": "2022-12-06T21:48:18.273354Z",
     "iopub.status.busy": "2022-12-06T21:48:18.272330Z",
     "iopub.status.idle": "2022-12-06T21:48:18.278664Z",
     "shell.execute_reply": "2022-12-06T21:48:18.277750Z"
    },
    "papermill": {
     "duration": 0.065607,
     "end_time": "2022-12-06T21:48:18.281427",
     "exception": false,
     "start_time": "2022-12-06T21:48:18.215820",
     "status": "completed"
    },
    "tags": []
   },
   "outputs": [
    {
     "name": "stdout",
     "output_type": "stream",
     "text": [
      "0.9357619047619048\n",
      "{'C': 0.1, 'penalty': 'l2', 'solver': 'newton-cg'}\n"
     ]
    }
   ],
   "source": [
    "print(lr_fit.best_score_)\n",
    "print(lr_fit.best_params_)"
   ]
  },
  {
   "cell_type": "code",
   "execution_count": 48,
   "id": "c139027d",
   "metadata": {
    "execution": {
     "iopub.execute_input": "2022-12-06T21:48:18.331459Z",
     "iopub.status.busy": "2022-12-06T21:48:18.331047Z",
     "iopub.status.idle": "2022-12-06T21:48:18.376682Z",
     "shell.execute_reply": "2022-12-06T21:48:18.374777Z"
    },
    "papermill": {
     "duration": 0.075432,
     "end_time": "2022-12-06T21:48:18.381603",
     "exception": false,
     "start_time": "2022-12-06T21:48:18.306171",
     "status": "completed"
    },
    "tags": []
   },
   "outputs": [
    {
     "name": "stdout",
     "output_type": "stream",
     "text": [
      "Akurasi Training = 93.58\n",
      "Akurasi Validasi = 93.74\n"
     ]
    }
   ],
   "source": [
    "print(\"Akurasi Training = {:.2f}\".format(gs_lr.score(x_train, y_train) * 100))\n",
    "print(\"Akurasi Validasi = {:.2f}\".format(gs_lr.score(x_test, y_test) * 100))"
   ]
  },
  {
   "cell_type": "markdown",
   "id": "6f06ac28",
   "metadata": {
    "papermill": {
     "duration": 0.050811,
     "end_time": "2022-12-06T21:48:18.491880",
     "exception": false,
     "start_time": "2022-12-06T21:48:18.441069",
     "status": "completed"
    },
    "tags": []
   },
   "source": [
    "# **D. Result Comparison (AUC ROC, Recall, Precision, F1-score) & Submission**"
   ]
  },
  {
   "cell_type": "code",
   "execution_count": 49,
   "id": "0e7ee8a5",
   "metadata": {
    "execution": {
     "iopub.execute_input": "2022-12-06T21:48:18.540631Z",
     "iopub.status.busy": "2022-12-06T21:48:18.540234Z",
     "iopub.status.idle": "2022-12-06T21:48:18.551167Z",
     "shell.execute_reply": "2022-12-06T21:48:18.550089Z"
    },
    "papermill": {
     "duration": 0.038288,
     "end_time": "2022-12-06T21:48:18.553657",
     "exception": false,
     "start_time": "2022-12-06T21:48:18.515369",
     "status": "completed"
    },
    "tags": []
   },
   "outputs": [
    {
     "data": {
      "text/html": [
       "<div>\n",
       "<style scoped>\n",
       "    .dataframe tbody tr th:only-of-type {\n",
       "        vertical-align: middle;\n",
       "    }\n",
       "\n",
       "    .dataframe tbody tr th {\n",
       "        vertical-align: top;\n",
       "    }\n",
       "\n",
       "    .dataframe thead th {\n",
       "        text-align: right;\n",
       "    }\n",
       "</style>\n",
       "<table border=\"1\" class=\"dataframe\">\n",
       "  <thead>\n",
       "    <tr style=\"text-align: right;\">\n",
       "      <th></th>\n",
       "      <th>Id</th>\n",
       "      <th>Probability</th>\n",
       "    </tr>\n",
       "  </thead>\n",
       "  <tbody>\n",
       "    <tr>\n",
       "      <th>0</th>\n",
       "      <td>1</td>\n",
       "      <td>0.080807</td>\n",
       "    </tr>\n",
       "    <tr>\n",
       "      <th>1</th>\n",
       "      <td>2</td>\n",
       "      <td>0.040719</td>\n",
       "    </tr>\n",
       "    <tr>\n",
       "      <th>2</th>\n",
       "      <td>3</td>\n",
       "      <td>0.011968</td>\n",
       "    </tr>\n",
       "    <tr>\n",
       "      <th>3</th>\n",
       "      <td>4</td>\n",
       "      <td>0.067640</td>\n",
       "    </tr>\n",
       "    <tr>\n",
       "      <th>4</th>\n",
       "      <td>5</td>\n",
       "      <td>0.108264</td>\n",
       "    </tr>\n",
       "  </tbody>\n",
       "</table>\n",
       "</div>"
      ],
      "text/plain": [
       "   Id  Probability\n",
       "0   1     0.080807\n",
       "1   2     0.040719\n",
       "2   3     0.011968\n",
       "3   4     0.067640\n",
       "4   5     0.108264"
      ]
     },
     "execution_count": 49,
     "metadata": {},
     "output_type": "execute_result"
    }
   ],
   "source": [
    "submission.head()"
   ]
  },
  {
   "cell_type": "code",
   "execution_count": 50,
   "id": "c8ebab96",
   "metadata": {
    "execution": {
     "iopub.execute_input": "2022-12-06T21:48:18.603258Z",
     "iopub.status.busy": "2022-12-06T21:48:18.602856Z",
     "iopub.status.idle": "2022-12-06T21:48:18.794609Z",
     "shell.execute_reply": "2022-12-06T21:48:18.793422Z"
    },
    "papermill": {
     "duration": 0.219428,
     "end_time": "2022-12-06T21:48:18.797163",
     "exception": false,
     "start_time": "2022-12-06T21:48:18.577735",
     "status": "completed"
    },
    "tags": []
   },
   "outputs": [],
   "source": [
    "submission.to_csv('submission_file.csv', index = False)"
   ]
  }
 ],
 "metadata": {
  "kernelspec": {
   "display_name": "Python 3",
   "language": "python",
   "name": "python3"
  },
  "language_info": {
   "codemirror_mode": {
    "name": "ipython",
    "version": 3
   },
   "file_extension": ".py",
   "mimetype": "text/x-python",
   "name": "python",
   "nbconvert_exporter": "python",
   "pygments_lexer": "ipython3",
   "version": "3.7.12"
  },
  "papermill": {
   "default_parameters": {},
   "duration": 268.418313,
   "end_time": "2022-12-06T21:48:19.744371",
   "environment_variables": {},
   "exception": null,
   "input_path": "__notebook__.ipynb",
   "output_path": "__notebook__.ipynb",
   "parameters": {},
   "start_time": "2022-12-06T21:43:51.326058",
   "version": "2.3.4"
  }
 },
 "nbformat": 4,
 "nbformat_minor": 5
}
